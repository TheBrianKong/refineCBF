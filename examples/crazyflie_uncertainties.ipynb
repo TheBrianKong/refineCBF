{
 "cells": [
  {
   "cell_type": "markdown",
   "metadata": {},
   "source": [
    "# 2D Bicopter (Quadcopter)\n",
    "\n",
    "We consider the 2D (vertical $z$ and horizontal axis $y$) quadcopter problem, and consider the following dynamics\n",
    "\n",
    "\n",
    "State: $$[y, z, v_y, v_z]$$\n",
    "\n",
    "Near hover Dynamics:\n",
    "$$\\begin{bmatrix}\\dot y \\\\ \\dot z \\\\ \\dot v_y\\\\ \\dot v_z\\end{bmatrix} = \\begin{bmatrix}v_x \\\\ v_y \\\\ -T \\sin(\\phi) \\\\ T \\cos(\\phi) - g\\end{bmatrix}, \\text{with } u=[\\phi, T]$$\n",
    "\n",
    "\n",
    "Approximation of near hover Dynamics: \n",
    "$$\\begin{bmatrix}\\dot y \\\\ \\dot z \\\\ \\dot v_y \\\\ \\dot v_z\\end{bmatrix}=\\dot{X}=\\begin{bmatrix}v_y \\\\ v_z \\\\-g\\tan(\\phi) \\\\ T-g\\end{bmatrix}=\\begin{bmatrix}v_y \\\\ v_z \\\\ -gu_1 \\\\ u_2 - g\\end{bmatrix}, \\text{with } u=[\\tan(\\phi), T]$$"
   ]
  },
  {
   "cell_type": "code",
   "execution_count": 1,
   "metadata": {},
   "outputs": [],
   "source": [
    "%load_ext autoreload\n",
    "%autoreload 2"
   ]
  },
  {
   "cell_type": "code",
   "execution_count": 2,
   "metadata": {},
   "outputs": [
    {
     "data": {
      "text/plain": [
       "'3.9.18 | packaged by conda-forge | (main, Aug 30 2023, 03:49:32) \\n[GCC 12.3.0]'"
      ]
     },
     "execution_count": 2,
     "metadata": {},
     "output_type": "execute_result"
    }
   ],
   "source": [
    "import sys; sys.version"
   ]
  },
  {
   "cell_type": "code",
   "execution_count": 3,
   "metadata": {},
   "outputs": [],
   "source": [
    "import matplotlib\n",
    "matplotlib.rcParams.update({\n",
    "    \"pgf.texsystem\": \"pdflatex\",\n",
    "    'font.family': 'serif',\n",
    "    'font.size': '20',\n",
    "    'text.usetex': False,   # Toggle to true for official LaTeX output\n",
    "    'pgf.rcfonts': False,\n",
    "    'lines.linewidth': 4.,\n",
    "})"
   ]
  },
  {
   "cell_type": "code",
   "execution_count": 4,
   "metadata": {},
   "outputs": [],
   "source": [
    "import warnings\n",
    "warnings.filterwarnings(\"ignore\", category=FutureWarning)\n",
    "warnings.filterwarnings(\"ignore\", category=UserWarning, module=\"matplotlib\")\n",
    "from matplotlib import MatplotlibDeprecationWarning\n",
    "warnings.filterwarnings(\"ignore\", category=MatplotlibDeprecationWarning)\n",
    "import matplotlib.pyplot as plt\n",
    "import jax.numpy as jnp\n",
    "import cvxpy as cp\n",
    "import jax\n",
    "import numpy as np\n",
    "import seaborn as sns\n",
    "\n",
    "import matplotlib\n",
    "import pickle as pkl\n",
    "import pandas as pd\n",
    "\n",
    "from scipy.interpolate import interp1d\n",
    "from matplotlib.animation import FuncAnimation\n",
    "from mpl_toolkits.axes_grid1 import make_axes_locatable\n",
    "from IPython.display import HTML"
   ]
  },
  {
   "cell_type": "code",
   "execution_count": 5,
   "metadata": {},
   "outputs": [],
   "source": [
    "import hj_reachability as hj\n",
    "import cbf_opt\n",
    "from cbf_opt import ControlAffineDynamics, ControlAffineCBF, ControlAffineASIF, SlackifiedControlAffineASIF, BatchedDynamics\n",
    "from experiment_wrapper import RolloutTrajectory, StateSpaceExperiment, TimeSeriesExperiment\n",
    "\n",
    "from refine_cbfs import HJControlAffineDynamics, TabularControlAffineCBF, TabularTVControlAffineCBF, utils\n",
    "\n",
    "from quad_2d.animate_quad import animate_multi_planar_quad, get_drone"
   ]
  },
  {
   "cell_type": "markdown",
   "metadata": {},
   "source": [
    "## Setup Problem (dynamics, environment and CBF)"
   ]
  },
  {
   "cell_type": "markdown",
   "metadata": {},
   "source": [
    "### Dynamics"
   ]
  },
  {
   "cell_type": "code",
   "execution_count": 6,
   "metadata": {},
   "outputs": [],
   "source": [
    "class CrazyflieDynamics(ControlAffineDynamics):\n",
    "    \"\"\"\n",
    "    Simplified dynamics, and we need to convert controls from phi to tan(phi)\"\"\"\n",
    "    STATES = [\"y\", \"z\", \"v_y\", \"v_z\"]\n",
    "    CONTROLS = [\"tan(phi)\", \"T\"]\n",
    "    DISTURBANCES = [\"dy\"]\n",
    "    def __init__(self, params, test=True, **kwargs):\n",
    "        super().__init__(params, test, **kwargs)\n",
    "    \n",
    "    def open_loop_dynamics(self, state, time: float = 0.0):\n",
    "        return jnp.array([state[2], state[3], 0.0, -self.params['g']])\n",
    "\n",
    "    def control_matrix(self, state, time: float = 0.0):\n",
    "        return jnp.array([[0.0, 0.0], [0.0, 0.0], [9.81, 0.0], [0.0, 1.0]])\n",
    "\n",
    "    # def disturbance_matrix(self, state, time: float = 0.0):\n",
    "    #     return jnp.array([[1.0, 0.0, 0.0, 0.0]]).reshape(len(self.STATES), len(self.DISTURBANCES))\n",
    "\n",
    "    def state_jacobian(self, state, control, disturbance = None, time: float = 0.0):\n",
    "        return jax.jacfwd(lambda x: self.__call__(x, control, disturbance, time))(state)\n",
    "    "
   ]
  },
  {
   "cell_type": "code",
   "execution_count": 7,
   "metadata": {},
   "outputs": [],
   "source": [
    "class CrazyflieDiffDynamics(ControlAffineDynamics):\n",
    "    STATES = [\"y\", \"z\", \"v_y\", \"v_z\"]\n",
    "    CONTROLS = [\"tan(phi)\", \"T\"]\n",
    "    DISTURBANCES = [\"dy\"]\n",
    "    def __init__(self, params, test=True, **kwargs):\n",
    "        super().__init__(params, test, **kwargs)\n",
    "    \n",
    "    def open_loop_dynamics(self, state, time: float = 0.0):\n",
    "        return jnp.array([state[2], state[3], 0.0, 0.0])\n",
    "\n",
    "    def control_matrix(self, state, time: float = 0.0):\n",
    "        return jnp.array([[0.0, 0.0], [0.0, 0.0], [9.81, 0.0], [0.0, 1.0]])\n",
    "\n",
    "    def disturbance_matrix(self, state, time: float = 0.0):\n",
    "        return jnp.array([[0.0, 0.0, 0.0, -1.0]]).reshape(len(self.STATES), len(self.DISTURBANCES))\n",
    "\n",
    "    def state_jacobian(self, state, control, disturbance = None, time: float = 0.0):\n",
    "        return jax.jacfwd(lambda x: self.__call__(x, control, disturbance, time))(state)"
   ]
  },
  {
   "cell_type": "code",
   "execution_count": 8,
   "metadata": {},
   "outputs": [
    {
     "name": "stderr",
     "output_type": "stream",
     "text": [
      "An NVIDIA GPU may be present on this machine, but a CUDA-enabled jaxlib is not installed. Falling back to cpu.\n"
     ]
    }
   ],
   "source": [
    "dyn = CrazyflieDynamics(params={'g': [6., 9.81]}, dt=0.01, test=False)\n",
    "batched_dyn = BatchedDynamics(dyn)\n",
    "umax = jnp.array([jnp.tan(np.pi / 6), 1.1 * 9.81])\n",
    "umin = jnp.array([-jnp.tan(np.pi / 6), 0.0])\n",
    "# dmax = jnp.array([3.0])\n",
    "# dmin = jnp.array([-3.0])"
   ]
  },
  {
   "cell_type": "code",
   "execution_count": 9,
   "metadata": {},
   "outputs": [],
   "source": [
    "dyn_alt = CrazyflieDiffDynamics(params={}, dt=0.01, test=False)\n",
    "batched_dyn_alt = BatchedDynamics(dyn_alt)\n",
    "umax_alt = jnp.array([jnp.tan(np.pi / 6), 1.1 * 9.81])\n",
    "umin_alt = jnp.array([-jnp.tan(np.pi / 6), 0.0])\n",
    "dmax_alt = jnp.array([9.81])\n",
    "dmin_alt = jnp.array([6.0])"
   ]
  },
  {
   "cell_type": "markdown",
   "metadata": {},
   "source": [
    "## Environment:\n",
    "### Boundary of grid\n",
    "Boundary of grid is defined below by the state domain\n",
    "### Environment / obstacles\n",
    "Safe set is delimited by the state space boundary and by obstacles"
   ]
  },
  {
   "cell_type": "code",
   "execution_count": 10,
   "metadata": {},
   "outputs": [],
   "source": [
    "state_domain = hj.sets.Box(lo=jnp.array([-6., -0.1, -5., -5.]), \n",
    "                           hi=jnp.array([6., 4.1, 5., 5.]))\n",
    "grid_resolution = (61, 61, 31, 31)  \n",
    "grid = hj.Grid.from_lattice_parameters_and_boundary_conditions(state_domain, grid_resolution)"
   ]
  },
  {
   "cell_type": "code",
   "execution_count": 11,
   "metadata": {},
   "outputs": [],
   "source": [
    "boundary = np.array([[-10., 10.], [-4., 8.], [-10., 10.], [-10., 10.]])"
   ]
  },
  {
   "cell_type": "code",
   "execution_count": 12,
   "metadata": {},
   "outputs": [],
   "source": [
    "obstacle1 = np.array([[-2., 0.], [1., 3.], [-100., 100.], [-100., 100.]])\n",
    "obstacles = [obstacle1]"
   ]
  },
  {
   "cell_type": "code",
   "execution_count": 13,
   "metadata": {},
   "outputs": [],
   "source": [
    "sdf = utils.build_sdf(boundary, obstacles)"
   ]
  },
  {
   "cell_type": "code",
   "execution_count": 14,
   "metadata": {},
   "outputs": [],
   "source": [
    "sdf_values = hj.utils.multivmap(sdf, jnp.arange(grid.ndim))(grid.states)"
   ]
  },
  {
   "cell_type": "markdown",
   "metadata": {},
   "source": [
    "# Vanilla Reachability is used here"
   ]
  },
  {
   "cell_type": "markdown",
   "metadata": {},
   "source": [
    "We consider here the comparison of a method that accounts for disturbances and one that doesn't"
   ]
  },
  {
   "cell_type": "code",
   "execution_count": 15,
   "metadata": {},
   "outputs": [],
   "source": [
    "backwards_reachable_tube = lambda obstacle: (lambda t, x: jnp.minimum(x, obstacle))\n",
    "solver_settings = hj.SolverSettings.with_accuracy(\"very_high\", value_postprocessor=backwards_reachable_tube(sdf_values))\n",
    "init_values = sdf_values\n",
    "initial_time = 0.\n",
    "final_time = -5.0\n",
    "times = jnp.linspace(initial_time, final_time, 51)"
   ]
  },
  {
   "cell_type": "markdown",
   "metadata": {},
   "source": [
    "### Disturbances"
   ]
  },
  {
   "cell_type": "code",
   "execution_count": 16,
   "metadata": {},
   "outputs": [
    {
     "name": "stderr",
     "output_type": "stream",
     "text": [
      "100%|##########|  5.0000/5.0 [14:03<00:00, 168.77s/sim_s]\n",
      "100%|##########|  5.0000/5.0 [15:23<00:00, 184.72s/sim_s]\n"
     ]
    }
   ],
   "source": [
    "dyn_hjr = HJControlAffineDynamics(dyn, control_space=hj.sets.Box(umin, umax))\n",
    "target_values = utils.hj_solve(solver_settings, dyn_hjr, grid, times, init_values)"
   ]
  },
  {
   "cell_type": "code",
   "execution_count": 17,
   "metadata": {},
   "outputs": [
    {
     "data": {
      "text/plain": [
       "Array(0.9452462, dtype=float32)"
      ]
     },
     "execution_count": 17,
     "metadata": {},
     "output_type": "execute_result"
    }
   ],
   "source": [
    "(target_values[-1] >= 0).sum() / target_values[-1].size"
   ]
  },
  {
   "cell_type": "code",
   "execution_count": 18,
   "metadata": {},
   "outputs": [
    {
     "name": "stderr",
     "output_type": "stream",
     "text": [
      "100%|##########|  5.0000/5.0 [15:16<00:00, 183.39s/sim_s]\n"
     ]
    }
   ],
   "source": [
    "dyn2 = CrazyflieDynamics(params={'g': 9.81}, dt=0.01, test=False)\n",
    "dyn_hjr2 = HJControlAffineDynamics(dyn2, control_space=hj.sets.Box(umin, umax))\n",
    "target_values2 = utils.hj_solve(solver_settings, dyn_hjr2, grid, times, init_values)"
   ]
  },
  {
   "cell_type": "code",
   "execution_count": 19,
   "metadata": {},
   "outputs": [
    {
     "data": {
      "text/plain": [
       "Array(0.9500945, dtype=float32)"
      ]
     },
     "execution_count": 19,
     "metadata": {},
     "output_type": "execute_result"
    }
   ],
   "source": [
    "(target_values2[-1] >= 0).sum() / target_values2[-1].size"
   ]
  },
  {
   "cell_type": "code",
   "execution_count": 20,
   "metadata": {},
   "outputs": [
    {
     "name": "stderr",
     "output_type": "stream",
     "text": [
      "100%|##########|  5.0000/5.0 [14:09<00:00, 169.92s/sim_s]\n"
     ]
    }
   ],
   "source": [
    "dyn3 = CrazyflieDynamics(params={'g': 6.}, dt=0.01, test=False)\n",
    "dyn_hjr3 = HJControlAffineDynamics(dyn3, control_space=hj.sets.Box(umin, umax))\n",
    "target_values3 = utils.hj_solve(solver_settings, dyn_hjr3, grid, times, init_values)"
   ]
  },
  {
   "cell_type": "code",
   "execution_count": 21,
   "metadata": {},
   "outputs": [
    {
     "data": {
      "text/plain": [
       "Array(0.9530203, dtype=float32)"
      ]
     },
     "execution_count": 21,
     "metadata": {},
     "output_type": "execute_result"
    }
   ],
   "source": [
    "(target_values3[-1] >= 0).sum() / target_values3[-1].size"
   ]
  },
  {
   "cell_type": "code",
   "execution_count": 22,
   "metadata": {},
   "outputs": [
    {
     "name": "stderr",
     "output_type": "stream",
     "text": [
      "100%|##########|  5.0000/5.0 [15:27<00:00, 185.40s/sim_s]\n"
     ]
    }
   ],
   "source": [
    "dyn_hjr_alt = HJControlAffineDynamics(dyn_alt, control_space=hj.sets.Box(umin_alt, umax_alt), disturbance_space=hj.sets.Box(dmin_alt, dmax_alt))\n",
    "target_values_alt = utils.hj_solve(solver_settings, dyn_hjr_alt, grid, times, init_values)"
   ]
  },
  {
   "cell_type": "code",
   "execution_count": 23,
   "metadata": {},
   "outputs": [
    {
     "data": {
      "text/plain": [
       "Array(0.9479823, dtype=float32)"
      ]
     },
     "execution_count": 23,
     "metadata": {},
     "output_type": "execute_result"
    }
   ],
   "source": [
    "(target_values_alt[-1] >= 0).sum() / target_values_alt[-1].size"
   ]
  },
  {
   "cell_type": "code",
   "execution_count": null,
   "metadata": {},
   "outputs": [],
   "source": [
    "# Set up the figure and axis\n",
    "fig = plt.figure()\n",
    "ax = fig.add_subplot(111)\n",
    "\n",
    "div = make_axes_locatable(ax)\n",
    "cax = div.append_axes('right', '5%', '5%')\n",
    "\n",
    "vy_slice = grid.shape[2] // 2\n",
    "vz_slice = grid.shape[3] // 2 - 5\n",
    "\n",
    "vmax = np.abs(target_values[0]).max()\n",
    "cf = ax.contourf(grid.coordinate_vectors[0], grid.coordinate_vectors[1],\n",
    "                 target_values[0][:, :, vy_slice, vz_slice].T, vmax=vmax, vmin=-vmax)\n",
    "cont_sdf = ax.contour(grid.coordinate_vectors[0], grid.coordinate_vectors[1],\n",
    "           sdf_values[:, :, vy_slice, vz_slice].T, levels=[0], colors='k', linewidths=4)\n",
    "cont = ax.contour(grid.coordinate_vectors[0], grid.coordinate_vectors[1],\n",
    "           target_values[0][:, :, vy_slice, vz_slice].T, levels=[0], colors='green', linewidths=2)\n",
    "cb = fig.colorbar(cf, cax=cax)\n",
    "tx = ax.set_title(f'HJR time $t=0$')\n",
    "ax.set_xlabel('$y$ (Horizontal)')\n",
    "ax.set_ylabel('$z$ (Vertical)')\n",
    "tx = ax.set_title(f'$v_y=0, v_z=0$, HJR time $t=0$')\n",
    "\n",
    "# Update function to draw contours for a given idi value\n",
    "def update(idi):\n",
    "    global cont\n",
    "    arr = target_values[idi][:, :, vy_slice, vz_slice].T\n",
    "    vmax = np.abs(arr).max()\n",
    "    # ax.clear()\n",
    "    cf = ax.contourf(grid.coordinate_vectors[0], grid.coordinate_vectors[1], arr, vmax=vmax, vmin=-vmax)\n",
    "    cont.collections[0].remove()\n",
    "    cont = ax.contour(grid.coordinate_vectors[0], grid.coordinate_vectors[1],\n",
    "               arr, levels=[0], colors='green')\n",
    "    cax.cla()\n",
    "    fig.colorbar(cf, cax=cax)\n",
    "    tx.set_text('HJR time t={:.2f}'.format(np.abs(times[idi].item())))\n",
    "\n",
    "\n",
    "# Animate with idi values from 0 to 11\n",
    "ani = FuncAnimation(fig, update, frames=range(len(times)))\n",
    "plt.close()\n",
    "HTML(ani.to_jshtml())"
   ]
  },
  {
   "cell_type": "code",
   "execution_count": null,
   "metadata": {},
   "outputs": [],
   "source": [
    "# Set up the figure and axis\n",
    "fig = plt.figure()\n",
    "ax = fig.add_subplot(111)\n",
    "\n",
    "div = make_axes_locatable(ax)\n",
    "cax = div.append_axes('right', '5%', '5%')\n",
    "\n",
    "vy_slice = grid.shape[2] // 2\n",
    "vz_slice = grid.shape[3] // 2 - 5\n",
    "\n",
    "vmax = np.abs(target_values[0]).max()\n",
    "cf = ax.contourf(grid.coordinate_vectors[0], grid.coordinate_vectors[1],\n",
    "                 target_values2[0][:, :, vy_slice, vz_slice].T, vmax=vmax, vmin=-vmax)\n",
    "cont_sdf = ax.contour(grid.coordinate_vectors[0], grid.coordinate_vectors[1],\n",
    "           sdf_values[:, :, vy_slice, vz_slice].T, levels=[0], colors='k', linewidths=4)\n",
    "cont = ax.contour(grid.coordinate_vectors[0], grid.coordinate_vectors[1],\n",
    "           target_values2[0][:, :, vy_slice, vz_slice].T, levels=[0], colors='green', linewidths=2)\n",
    "cb = fig.colorbar(cf, cax=cax)\n",
    "tx = ax.set_title(f'HJR time $t=0$')\n",
    "ax.set_xlabel('$y$ (Horizontal)')\n",
    "ax.set_ylabel('$z$ (Vertical)')\n",
    "tx = ax.set_title(f'$v_y=0, v_z=0$, HJR time $t=0$')\n",
    "\n",
    "# Update function to draw contours for a given idi value\n",
    "def update(idi):\n",
    "    global cont\n",
    "    arr = target_values2[idi][:, :, vy_slice, vz_slice].T\n",
    "    vmax = np.abs(arr).max()\n",
    "    # ax.clear()\n",
    "    cf = ax.contourf(grid.coordinate_vectors[0], grid.coordinate_vectors[1], arr, vmax=vmax, vmin=-vmax)\n",
    "    cont.collections[0].remove()\n",
    "    cont = ax.contour(grid.coordinate_vectors[0], grid.coordinate_vectors[1],\n",
    "               arr, levels=[0], colors='green')\n",
    "    cax.cla()\n",
    "    fig.colorbar(cf, cax=cax)\n",
    "    tx.set_text('HJR time t={:.2f}'.format(np.abs(times[idi].item())))\n",
    "\n",
    "\n",
    "# Animate with idi values from 0 to 11\n",
    "ani = FuncAnimation(fig, update, frames=range(len(times)))\n",
    "plt.close()\n",
    "HTML(ani.to_jshtml())"
   ]
  },
  {
   "cell_type": "code",
   "execution_count": null,
   "metadata": {},
   "outputs": [],
   "source": [
    "# Set up the figure and axis\n",
    "fig = plt.figure()\n",
    "ax = fig.add_subplot(111)\n",
    "\n",
    "div = make_axes_locatable(ax)\n",
    "cax = div.append_axes('right', '5%', '5%')\n",
    "\n",
    "vy_slice = grid.shape[2] // 2\n",
    "vz_slice = grid.shape[3] // 2 - 5\n",
    "\n",
    "vmax = np.abs(target_values[0]).max()\n",
    "cf = ax.contourf(grid.coordinate_vectors[0], grid.coordinate_vectors[1],\n",
    "                 target_values3[0][:, :, vy_slice, vz_slice].T, vmax=vmax, vmin=-vmax)\n",
    "cont_sdf = ax.contour(grid.coordinate_vectors[0], grid.coordinate_vectors[1],\n",
    "           sdf_values[:, :, vy_slice, vz_slice].T, levels=[0], colors='k', linewidths=4)\n",
    "cont = ax.contour(grid.coordinate_vectors[0], grid.coordinate_vectors[1],\n",
    "           target_values3[0][:, :, vy_slice, vz_slice].T, levels=[0], colors='green', linewidths=2)\n",
    "cb = fig.colorbar(cf, cax=cax)\n",
    "tx = ax.set_title(f'HJR time $t=0$')\n",
    "ax.set_xlabel('$y$ (Horizontal)')\n",
    "ax.set_ylabel('$z$ (Vertical)')\n",
    "tx = ax.set_title(f'$v_y=0, v_z=0$, HJR time $t=0$')\n",
    "\n",
    "# Update function to draw contours for a given idi value\n",
    "def update(idi):\n",
    "    global cont\n",
    "    arr = target_values3[idi][:, :, vy_slice, vz_slice].T\n",
    "    vmax = np.abs(arr).max()\n",
    "    # ax.clear()\n",
    "    cf = ax.contourf(grid.coordinate_vectors[0], grid.coordinate_vectors[1], arr, vmax=vmax, vmin=-vmax)\n",
    "    cont.collections[0].remove()\n",
    "    cont = ax.contour(grid.coordinate_vectors[0], grid.coordinate_vectors[1],\n",
    "               arr, levels=[0], colors='green')\n",
    "    cax.cla()\n",
    "    fig.colorbar(cf, cax=cax)\n",
    "    tx.set_text('HJR time t={:.2f}'.format(np.abs(times[idi].item())))\n",
    "\n",
    "\n",
    "# Animate with idi values from 0 to 11\n",
    "ani = FuncAnimation(fig, update, frames=range(len(times)))\n",
    "plt.close()\n",
    "HTML(ani.to_jshtml())"
   ]
  },
  {
   "cell_type": "code",
   "execution_count": null,
   "metadata": {},
   "outputs": [],
   "source": [
    "# Set up the figure and axis\n",
    "fig = plt.figure()\n",
    "ax = fig.add_subplot(111)\n",
    "\n",
    "div = make_axes_locatable(ax)\n",
    "cax = div.append_axes('right', '5%', '5%')\n",
    "\n",
    "vmax = np.abs(target_values[0]).max()\n",
    "cf = ax.contourf(grid.coordinate_vectors[0], grid.coordinate_vectors[1],\n",
    "                 target_values_no_d[0][:, :, grid.shape[2] // 2, grid.shape[3] // 2].T, vmax=vmax, vmin=-vmax)\n",
    "cont_sdf = ax.contour(grid.coordinate_vectors[0], grid.coordinate_vectors[1],\n",
    "           sdf_values[:, :, grid.shape[2] // 2, grid.shape[3] // 2].T, levels=[0], colors='k', linewidths=4)\n",
    "cont = ax.contour(grid.coordinate_vectors[0], grid.coordinate_vectors[1],\n",
    "           target_values_no_d[0][:, :, grid.shape[2] // 2, grid.shape[3] // 2].T, levels=[0], colors='green', linewidths=2)\n",
    "cb = fig.colorbar(cf, cax=cax)\n",
    "tx = ax.set_title(f'HJR time $t=0$')\n",
    "ax.set_xlabel('$y$ (Horizontal)')\n",
    "ax.set_ylabel('$z$ (Vertical)')\n",
    "tx = ax.set_title(f'$v_y=0, v_z=0$, HJR time $t=0$')\n",
    "\n",
    "# Update function to draw contours for a given idi value\n",
    "def update(idi):\n",
    "    global cont\n",
    "    arr = target_values_no_d[idi][:, :, grid.shape[2] // 2, grid.shape[3] // 2].T\n",
    "    vmax = np.abs(arr).max()\n",
    "    # ax.clear()\n",
    "    cf = ax.contourf(grid.coordinate_vectors[0], grid.coordinate_vectors[1], arr, vmax=vmax, vmin=-vmax)\n",
    "    cont.collections[0].remove()\n",
    "    cont = ax.contour(grid.coordinate_vectors[0], grid.coordinate_vectors[1],\n",
    "               arr, levels=[0], colors='green')\n",
    "    cax.cla()\n",
    "    fig.colorbar(cf, cax=cax)\n",
    "    tx.set_text('HJR time t={:.2f}'.format(np.abs(times[idi].item())))\n",
    "\n",
    "\n",
    "# Animate with idi values from 0 to 11\n",
    "ani = FuncAnimation(fig, update, frames=range(len(times)))\n",
    "plt.close()\n",
    "HTML(ani.to_jshtml())"
   ]
  },
  {
   "cell_type": "markdown",
   "metadata": {},
   "source": [
    "## Online implementation"
   ]
  },
  {
   "cell_type": "markdown",
   "metadata": {},
   "source": [
    "### Comparisons\n",
    "We compare the following algorithms:\n",
    "- Nominal safety-agnostic control\n",
    "- Heuristic CBF (what people use in practice!)\n",
    "- CBVF computed using `refineCBF` from heuristic CBF offline\n",
    "- Time varying CBVF (Ours)"
   ]
  },
  {
   "cell_type": "markdown",
   "metadata": {},
   "source": [
    "### Value function evolution"
   ]
  },
  {
   "cell_type": "markdown",
   "metadata": {},
   "source": [
    "The timescales over which we solved for the value function offline (see above) might not be real-time feasible. Hence we consider it is solved at a different frequency (e.g., artificially slowing down how the value function changes), to test out the framework.\n",
    "\n",
    "Here we \"slow\" the reachability updates by a factor 4!"
   ]
  },
  {
   "cell_type": "code",
   "execution_count": null,
   "metadata": {},
   "outputs": [],
   "source": [
    "tabular_finalized_cbf = TabularControlAffineCBF(batched_dyn, {}, test=False, grid=grid)\n",
    "tabular_finalized_cbf.vf_table = target_values[-1]  # Take the last value (when converged)"
   ]
  },
  {
   "cell_type": "code",
   "execution_count": null,
   "metadata": {},
   "outputs": [],
   "source": [
    "tcbf_no_d = TabularControlAffineCBF(batched_dyn, {}, test=False, grid=grid)\n",
    "tcbf_no_d.vf_table = target_values_no_d[-1]  # Take the last value (when converged)"
   ]
  },
  {
   "cell_type": "markdown",
   "metadata": {},
   "source": [
    "### Nominal control\n",
    "We consider an LQR controller for nominal control. If you modify the experiment you can see that an LQR controller with safety filter is safe but can lead to us getting stuck"
   ]
  },
  {
   "cell_type": "code",
   "execution_count": null,
   "metadata": {},
   "outputs": [],
   "source": [
    "x_nom = jnp.array([0.0, 3.0, 0.0, 0.0])\n",
    "u_nom = jnp.array([0.0, 9.81])\n",
    "A, B, _ = dyn.linearized_dt_dynamics(x_nom, u_nom)  # For discrete LQR!\n",
    "\n",
    "Q = jnp.diag(jnp.array([1.0, 1.0, 0.1, 0.1]))\n",
    "R = jnp.diag(jnp.array([1.0, 1.0]))\n",
    "\n",
    "K = cbf_opt.utils.lqr(A, B, Q, R)\n",
    "\n",
    "A_cl = A - B @ K\n",
    "# assert np.all(np.linalg.eigvals(A_cl) < 0).all() "
   ]
  },
  {
   "cell_type": "code",
   "execution_count": null,
   "metadata": {},
   "outputs": [],
   "source": [
    "nominal_control = lambda u_ref, x_ref, F: lambda x, t: np.atleast_2d(np.clip(u_ref - \n",
    "                                (F @ (x - x_ref).T).T, umin, umax))"
   ]
  },
  {
   "cell_type": "markdown",
   "metadata": {},
   "source": [
    "### Safety filter\n",
    "We use the slackified version of the safety filter to ensure , we use gurobi as a solver (you need to obtain an academic license, or change the solver to e.g. \"ECOS\" / \"OSQP\")"
   ]
  },
  {
   "cell_type": "code",
   "execution_count": null,
   "metadata": {},
   "outputs": [],
   "source": [
    "x_goal = jnp.array([4.5, 1.0, 0.0, 0.0])\n",
    "u_goal = jnp.array([0.0, 9.81])\n",
    "nom_control = nominal_control(u_goal, x_goal, K)\n",
    "alpha = lambda x: 3.0 * x\n",
    "\n",
    "cbvf_asif = SlackifiedControlAffineASIF(batched_dyn, tabular_finalized_cbf, test=False, alpha=alpha, nominal_policy=nom_control,\n",
    "                                        umin=umin, umax=umax, dmin=dmin, dmax=dmax, solver=cp.GUROBI)\n",
    "\n",
    "cbvf_asif_no_d = SlackifiedControlAffineASIF(batched_dyn, tcbf_no_d, test=False, alpha=alpha, nominal_policy=nom_control,\n",
    "                                             umin=umin, umax=umax, solver=cp.GUROBI)"
   ]
  },
  {
   "cell_type": "code",
   "execution_count": null,
   "metadata": {},
   "outputs": [],
   "source": [
    "x0 = jnp.array([-4.0, 2.0, 0.0, 0.0])\n",
    "experiment = RolloutTrajectory('quad', start_x=x0, n_sims_per_start=1, t_sim=10.0)"
   ]
  },
  {
   "cell_type": "code",
   "execution_count": null,
   "metadata": {},
   "outputs": [],
   "source": [
    "class UniformDisturbance:\n",
    "    def __init__(self, bounds, **kwargs):\n",
    "        self.bounds = bounds\n",
    "        self.seed = kwargs.get(\"seed\", 0)\n",
    "        self.beta_skew = kwargs.get(\"beta_skew\", 1.0)  # Defaults to a uniform distribution (beta(1,1) = uniform(0,1))\n",
    "        self.reset()\n",
    "    \n",
    "    def __call__(self, x, t):\n",
    "        # Randomized value\n",
    "        return self.random_state.beta(self.beta_skew, self.beta_skew, size=(x.shape[0], self.bounds.shape[0])) * (self.bounds[:, 1] - self.bounds[:, 0]) + self.bounds[:, 0]\n",
    "    \n",
    "    def reset(self, x=None):\n",
    "        # Resets random state to have same disturbances for each rollout\n",
    "        self.random_state = np.random.default_rng(seed=self.seed)"
   ]
  },
  {
   "cell_type": "code",
   "execution_count": null,
   "metadata": {},
   "outputs": [],
   "source": [
    "dist = UniformDisturbance(np.array([dmin, dmax]).T)"
   ]
  },
  {
   "cell_type": "code",
   "execution_count": null,
   "metadata": {},
   "outputs": [],
   "source": [
    "import logging\n",
    "logging.getLogger('cbf_opt').setLevel(level=logging.ERROR)\n",
    "results_df = experiment.run(batched_dyn, {\"nominal\": nom_control, \"Disturbance aware CBF\": cbvf_asif, \"Nonaware CBF\": cbvf_asif_no_d}, disturbances={\"uniform\": dist})"
   ]
  },
  {
   "cell_type": "code",
   "execution_count": null,
   "metadata": {},
   "outputs": [],
   "source": [
    "# Find closest time in results_df.t to time_ind\n",
    "#### NO NEED TO MODIFY TYPICALLY ####\n",
    "def find_closest_time(df, time_ind):\n",
    "    return df.t.iloc[df.t.sub(time_ind).abs().idxmin()]\n",
    "\n",
    "\n",
    "ss_exp = StateSpaceExperiment('quad', x_indices=[0, 1], start_x=x0)\n",
    "# Set up the figure and axis\n",
    "fig = plt.figure(figsize=(20,10))\n",
    "ax = fig.add_subplot(111)\n",
    "alphas = [0.1, 0.5, 0.5, 1.0]\n",
    "nbr_controllers = len(results_df.controller.unique())\n",
    "\n",
    "plt.legend(results_df.controller.unique())\n",
    "ax.contour(grid.coordinate_vectors[0], grid.coordinate_vectors[1],\n",
    "           tabular_finalized_cbf.vf_table[:, :, grid.shape[2] // 2, grid.shape[3] // 2].T, levels=[0], colors='grey', linewidths=4)  \n",
    "cont3 = ax.contourf(grid.coordinate_vectors[0], grid.coordinate_vectors[1],\n",
    "           sdf_values[:, :, grid.shape[2] // 2, grid.shape[3] // 2].T, levels=[-10, 0], colors='red')\n",
    "cont2 = ax.contour(grid.coordinate_vectors[0], grid.coordinate_vectors[1],\n",
    "           sdf_values[:, :, grid.shape[2] // 2, grid.shape[3] // 2].T, levels=[0], colors='k', linewidths=4)\n",
    "ax.set_xlabel('$y$ (Horizontal)', fontsize=20)\n",
    "ax.set_ylabel('$z$ (Vertical)', fontsize=20)\n",
    "tx = ax.set_title('$v_y=0, v_z=0$, HJR time $t=0$')\n",
    "ss_exp.plot(batched_dyn, results_df, ax=ax, add_direction=False, max_time=0.0, alpha=alphas)\n",
    "ax.legend(ax.lines[::len(ax.lines) // nbr_controllers], results_df.controller.unique(), loc=\"upper center\", ncol=4, fontsize=20)\n",
    "\n",
    "# Update function to draw contours for a given idi value\n",
    "def update(time):\n",
    "    for line in ax.lines:\n",
    "        line.remove()\n",
    "    for patch in ax.patches:\n",
    "        patch.remove()\n",
    "    ax.set_prop_cycle(None)\n",
    "    ss_exp.plot(batched_dyn, results_df, ax=ax, add_direction=False, max_time=time, alpha=alphas)\n",
    "    closest_time = find_closest_time(results_df, time)\n",
    "    curr_vals = results_df[(results_df.t == closest_time) & (results_df.measurement.isin([\"y\", \"z\", \"tan(phi)\"]))].value.values.reshape(nbr_controllers, -1)\n",
    "    colors = []\n",
    "    for line in ax.lines[::len(ax.lines) // nbr_controllers]:\n",
    "        colors.append(line.get_color())\n",
    "    for i, curr_val in enumerate(curr_vals):\n",
    "        # get color from prop_cycle \n",
    "        get_drone(ax, curr_val[0], curr_val[1], np.arctan(-curr_val[2]), rel_size=0.3, height_scale=0.9, alpha=alphas[i], color=colors[i])\n",
    "    tx.set_text('$v_y=0, v_z=0$, Simulation time t={:.2f}'.format(np.abs(time)))\n",
    "    fig.tight_layout()\n",
    "\n",
    "ani = FuncAnimation(fig, update, frames=np.linspace(0,10,100))\n",
    "plt.close()\n",
    "HTML(ani.to_jshtml())"
   ]
  },
  {
   "cell_type": "code",
   "execution_count": null,
   "metadata": {},
   "outputs": [],
   "source": [
    "ts_exp = TimeSeriesExperiment('quad', x_indices=[0, 1], start_x=x0)"
   ]
  },
  {
   "cell_type": "code",
   "execution_count": null,
   "metadata": {},
   "outputs": [],
   "source": [
    "fighandle = ts_exp.plot(batched_dyn, results_df, extra_measurements=['vf'])[0]\n",
    "fig = fighandle[1]\n",
    "ax = fig.axes[-1]\n",
    "ax.plot(np.arange(0,20), np.zeros_like(np.arange(0,20)), 'k--', linewidth=4)"
   ]
  }
 ],
 "metadata": {
  "kernelspec": {
   "display_name": "Python 3.8.13 ('refine_cbf')",
   "language": "python",
   "name": "python3"
  },
  "language_info": {
   "codemirror_mode": {
    "name": "ipython",
    "version": 3
   },
   "file_extension": ".py",
   "mimetype": "text/x-python",
   "name": "python",
   "nbconvert_exporter": "python",
   "pygments_lexer": "ipython3",
   "version": "3.9.18"
  },
  "orig_nbformat": 4,
  "vscode": {
   "interpreter": {
    "hash": "817647b86e70f13476c612841a53261b77d8bded203e176d956e3e918f8a40e2"
   }
  }
 },
 "nbformat": 4,
 "nbformat_minor": 2
}
