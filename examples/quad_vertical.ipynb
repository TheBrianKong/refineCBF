{
 "cells": [
  {
   "cell_type": "code",
   "execution_count": 16,
   "metadata": {},
   "outputs": [],
   "source": [
    "from cbf_opt import dynamics, cbf\n",
    "from cbf_hjr import cbf as cbf_hjr, dynamics as dynamics_hjr\n",
    "import hj_reachability as hj\n",
    "import jax.numpy as jnp"
   ]
  },
  {
   "cell_type": "code",
   "execution_count": 17,
   "metadata": {},
   "outputs": [],
   "source": [
    "import matplotlib\n",
    "matplotlib.rcParams.update({\n",
    "    \"pgf.texsystem\": \"pdflatex\",\n",
    "    'font.family': 'serif',\n",
    "    'font.size': '28',\n",
    "    'text.usetex': True,\n",
    "    'pgf.rcfonts': False,\n",
    "})\n",
    "import matplotlib.pyplot as plt\n",
    "import matplotlib.animation as anim"
   ]
  },
  {
   "cell_type": "markdown",
   "metadata": {},
   "source": [
    "State: $\\mathbf{x} = [y, v_y, \\phi, \\omega]^T$\n",
    "\n",
    "Dynamics: \n",
    "$$\\dot{x} = \\begin{bmatrix}x_2 \\\\ \\frac{ - C_D^v x_2}{m} - g \\\\ x_4 \\\\ \\frac{- C_D^\\phi x_4}{I{yy}}\\end{bmatrix} + \\begin{bmatrix}0 & 0 \\\\ \\frac{\\cos(x_3)}{m} & \\frac{\\cos(x_3)}{m} \\\\ 0 & 0 \\\\ -\\frac{l}{I_{yy}} & \\frac{l}{I_{yy}}\\end{bmatrix}\\underbrace{\\begin{bmatrix}T_1 \\\\ T_2\\end{bmatrix}}_{u}"
   ]
  },
  {
   "cell_type": "code",
   "execution_count": 18,
   "metadata": {},
   "outputs": [],
   "source": [
    "class QuadVerticalDynamics(dynamics.ControlAffineDynamics):\n",
    "    def __init__(self, params, **kwargs):\n",
    "        params['n_dims'] = 4\n",
    "        params['control_dims'] = 2\n",
    "\n",
    "        self.Cd_v = params[\"Cd_v\"]\n",
    "        self.g = params[\"g\"]\n",
    "        self.Cd_phi = params[\"Cd_phi\"]\n",
    "        self.mass = params[\"mass\"]\n",
    "        self.length = params[\"length\"]\n",
    "        self.Iyy = params[\"Iyy\"]\n",
    "        super().__init__(params, **kwargs)\n",
    "\n",
    "    \n",
    "    def open_loop_dynamics(self, state, time=0.0):\n",
    "        return jnp.array([\n",
    "            state[1], \n",
    "            -state[1] * self.Cd_v / self.mass - self.g, \n",
    "            state[3], \n",
    "            -state[3] * self.Cd_phi / self.mass\n",
    "            ])\n",
    "    \n",
    "    def control_matrix(self, state, time=0.0):\n",
    "        return jnp.array([\n",
    "            [0, 0], \n",
    "            [jnp.cos(state[2]), jnp.cos(state[2])], \n",
    "            [0, 0], \n",
    "            [-self.length / self.Iyy, self.length / self.Iyy]\n",
    "            ])"
   ]
  },
  {
   "cell_type": "code",
   "execution_count": 19,
   "metadata": {},
   "outputs": [],
   "source": [
    "params = dict()\n",
    "params[\"Cd_v\"] = 0.25\n",
    "params[\"g\"] = 9.81\n",
    "params[\"Cd_phi\"] = 0.02255\n",
    "params[\"mass\"] = 2.5\n",
    "params[\"length\"] = 1.0\n",
    "params[\"Iyy\"] = 1.0\n",
    "params[\"dt\"] = 0.01\n",
    "\n",
    "dyn = QuadVerticalDynamics(params)"
   ]
  },
  {
   "cell_type": "code",
   "execution_count": 20,
   "metadata": {},
   "outputs": [],
   "source": [
    "umax = 0.75 * params[\"mass\"] * params[\"g\"] * jnp.ones(2)\n",
    "umin = jnp.zeros_like(umax)"
   ]
  },
  {
   "cell_type": "markdown",
   "metadata": {},
   "source": [
    "## Safe set: \n",
    "$$\\mathcal{E} = [1, 9] \\times [-6, 6] \\times [-\\infty, \\infty] \\times [-8,8]$$"
   ]
  },
  {
   "cell_type": "code",
   "execution_count": 21,
   "metadata": {},
   "outputs": [],
   "source": [
    "def safe_set(state):\n",
    "    \"\"\"A real-valud function s.t. the zero-superlevel set is the safe set\n",
    "\n",
    "    Args:\n",
    "        state : An unbatched (!) state vector, an array of shape `(4,)` containing `[y, v_y, phi, omega]`.\n",
    "\n",
    "    Returns:\n",
    "        A scalar, positive iff the state is in the safe set\n",
    "    \"\"\"\n",
    "    return jnp.min(jnp.array([state[0] - 1, 9 - state[0], state[1] + 6, 6 - state[1], state[3] + 8, 8 - state[3]]))\n"
   ]
  },
  {
   "cell_type": "markdown",
   "metadata": {},
   "source": [
    "Two options: We learn a value function that indicates backup set (in a small region of the state space maybe around the hovering) and an unsafe region (outside of the operating range) OR we define a CBF ourselves with a bit of imagination\n",
    "\n",
    "## Current implementation: Self-defined approximately correct value function"
   ]
  },
  {
   "cell_type": "code",
   "execution_count": 22,
   "metadata": {},
   "outputs": [],
   "source": [
    "class QuadVerticalCBF(cbf.ControlAffineCBF):\n",
    "    def __init__(self, dynamics, params, **kwargs):\n",
    "        self.scaling = params[\"scaling\"]\n",
    "        super().__init__(dynamics, params, **kwargs)\n",
    "\n",
    "    def vf(self, state, time=0.0):\n",
    "        return 10 - self.scaling[0] * (5 - state[0]) ** 2 - self.scaling[1] * (state[1]) ** 2 - self.scaling[2] * (state[2]) ** 2 - self.scaling[3] * (state[3]) ** 2\n",
    "\n",
    "    def vf_dt_partial(self, state, time=0.0):\n",
    "        return 0.0\n",
    "    \n",
    "    def _grad_vf(self, state, time=0.0):\n",
    "        return self.scaling * np.array([2 * (5 - state[0]), - 2 * state[1], - 2 * state[2], - 2 * state[3]])"
   ]
  },
  {
   "cell_type": "code",
   "execution_count": 23,
   "metadata": {},
   "outputs": [],
   "source": [
    "cbf_params = dict()\n",
    "cbf_params[\"scaling\"] = jnp.array([0.75, 0.5, 2., 0.5])\n",
    "quad_cbf = QuadVerticalCBF(dyn, cbf_params)"
   ]
  },
  {
   "cell_type": "markdown",
   "metadata": {},
   "source": [
    "## Classical HJ solution"
   ]
  },
  {
   "cell_type": "code",
   "execution_count": 24,
   "metadata": {},
   "outputs": [],
   "source": [
    "dyn_hjr = dynamics_hjr.HJControlAffineDynamics(dyn, control_space=hj.sets.Box(jnp.array(umin), jnp.array(umax)))\n",
    "\n",
    "state_domain = hj.sets.Box(lo=jnp.array([0., -8., -jnp.pi, -10.]), hi=jnp.array([10., 8., jnp.pi, 10.]))\n",
    "grid_resolution = (25, 25, 30, 25)  # can/should be increased if running on GPU, or if extra patient"
   ]
  },
  {
   "cell_type": "code",
   "execution_count": 25,
   "metadata": {},
   "outputs": [],
   "source": [
    "grid = hj.Grid.from_lattice_parameters_and_boundary_conditions(state_domain, grid_resolution, periodic_dims=2)"
   ]
  },
  {
   "cell_type": "code",
   "execution_count": 26,
   "metadata": {},
   "outputs": [],
   "source": [
    "safe_values = hj.utils.multivmap(safe_set, jnp.arange(4))(grid.states)"
   ]
  },
  {
   "cell_type": "code",
   "execution_count": 27,
   "metadata": {},
   "outputs": [],
   "source": [
    "backwards_reachable_tube = lambda obstacle: (lambda t, x: jnp.minimum(x, obstacle))\n",
    "solver_settings = hj.SolverSettings.with_accuracy(\"high\", value_postprocessor=backwards_reachable_tube(safe_values))"
   ]
  },
  {
   "cell_type": "code",
   "execution_count": 28,
   "metadata": {},
   "outputs": [
    {
     "name": "stderr",
     "output_type": "stream",
     "text": [
      "100%|##########|  5.0000/5.0 [06:00<00:00, 72.07s/sim_s]\n"
     ]
    }
   ],
   "source": [
    "init_values = safe_values\n",
    "initial_time = 0.\n",
    "final_time = -5.\n",
    "times = jnp.linspace(initial_time, final_time, 101)\n",
    "target_values_hjr = hj.solve(solver_settings, dyn_hjr, grid, times, init_values)"
   ]
  },
  {
   "cell_type": "code",
   "execution_count": 29,
   "metadata": {},
   "outputs": [],
   "source": [
    "def render_frame(i, colorbar=False):\n",
    "    global cont\n",
    "    for c in cont.collections:\n",
    "        c.remove()\n",
    "        \n",
    "    cont = ax.contour(grid.coordinate_vectors[2], grid.coordinate_vectors[0], value_function[i][:,12,:,12], levels=[0], colors='g')"
   ]
  },
  {
   "cell_type": "code",
   "execution_count": 30,
   "metadata": {},
   "outputs": [
    {
     "data": {
      "image/png": "[encoded data removed]",
      "text/plain": [
       "<Figure size 864x648 with 1 Axes>"
      ]
     },
     "metadata": {
      "needs_background": "light"
     },
     "output_type": "display_data"
    }
   ],
   "source": [
    "value_function = target_values_hjr\n",
    "filename=\"quad_cbf.mp4\"\n",
    "proxy = [] \n",
    "\n",
    "fig, ax = plt.subplots(figsize=(12, 9))\n",
    "\n",
    "cs = ax.contour(grid.coordinate_vectors[2], grid.coordinate_vectors[0], safe_values[:,12,:,12], levels=[0], colors='k')\n",
    "proxy += [plt.Rectangle((0,0),1,1,ec = 'k', fc='white') for pc in cs.collections]\n",
    "\n",
    "cont = ax.contour(grid.coordinate_vectors[2], grid.coordinate_vectors[0], value_function[0][:,12,:,12], levels=[0], colors='g')\n",
    "proxy += [plt.Rectangle((0,0),1,1,ec = 'g', fc='white')\n",
    "        for pc in cont.collections]\n",
    "cs = ax.contour(grid.coordinate_vectors[2], grid.coordinate_vectors[0], value_function[-1][:,12,:,12], levels=[0], colors='orange')\n",
    "proxy += [plt.Rectangle((0,0),1,1,ec = 'orange', fc='white')\n",
    "        for pc in cs.collections]\n",
    "ax.grid()\n",
    "ax.set_xlabel(\"$\\\\phi$\")\n",
    "ax.set_ylabel(\"$y (height)$\")\n",
    "ax.set_title(\"Quadcopter viable set with $v=0, \\omega = 0$\")\n",
    "ax.legend(proxy, [\"Safe set\", \"$\\mathcal{C}(t)$\", \"Viability kernel\"], prop={'size': 20})\n",
    "\n",
    "render_frame(0, False)\n",
    "animation = anim.FuncAnimation(fig, render_frame, value_function.shape[0], interval=50)\n",
    "# animation.save(filename, writer='ffmpeg', fps=30)"
   ]
  },
  {
   "cell_type": "markdown",
   "metadata": {},
   "source": [
    "# CBF HJR"
   ]
  },
  {
   "cell_type": "code",
   "execution_count": 31,
   "metadata": {},
   "outputs": [],
   "source": [
    "quad_tabular_cbf = cbf_hjr.TabularCBF(dyn, grid=grid)"
   ]
  },
  {
   "cell_type": "code",
   "execution_count": 32,
   "metadata": {},
   "outputs": [
    {
     "name": "stderr",
     "output_type": "stream",
     "text": [
      "100%|██████████| 25/25 [1:00:20<00:00, 144.81s/it]\n"
     ]
    }
   ],
   "source": [
    "quad_tabular_cbf.tabularize_cbf(quad_cbf)"
   ]
  },
  {
   "cell_type": "code",
   "execution_count": 33,
   "metadata": {},
   "outputs": [
    {
     "ename": "NameError",
     "evalue": "name 'target_values' is not defined",
     "output_type": "error",
     "traceback": [
      "\u001b[0;31m---------------------------------------------------------------------------\u001b[0m",
      "\u001b[0;31mNameError\u001b[0m                                 Traceback (most recent call last)",
      "\u001b[0;32m/tmp/ipykernel_24982/2979413543.py\u001b[0m in \u001b[0;36m<module>\u001b[0;34m\u001b[0m\n\u001b[1;32m      5\u001b[0m \u001b[0mcont\u001b[0m \u001b[0;34m=\u001b[0m \u001b[0max\u001b[0m\u001b[0;34m.\u001b[0m\u001b[0mcontour\u001b[0m\u001b[0;34m(\u001b[0m\u001b[0mgrid\u001b[0m\u001b[0;34m.\u001b[0m\u001b[0mcoordinate_vectors\u001b[0m\u001b[0;34m[\u001b[0m\u001b[0;36m2\u001b[0m\u001b[0;34m]\u001b[0m\u001b[0;34m,\u001b[0m \u001b[0mgrid\u001b[0m\u001b[0;34m.\u001b[0m\u001b[0mcoordinate_vectors\u001b[0m\u001b[0;34m[\u001b[0m\u001b[0;36m0\u001b[0m\u001b[0;34m]\u001b[0m\u001b[0;34m,\u001b[0m \u001b[0mquad_tabular_cbf\u001b[0m\u001b[0;34m.\u001b[0m\u001b[0mvf_table\u001b[0m\u001b[0;34m[\u001b[0m\u001b[0;34m:\u001b[0m\u001b[0;34m,\u001b[0m\u001b[0midx1\u001b[0m\u001b[0;34m,\u001b[0m\u001b[0;34m:\u001b[0m\u001b[0;34m,\u001b[0m\u001b[0midx2\u001b[0m\u001b[0;34m]\u001b[0m\u001b[0;34m,\u001b[0m \u001b[0mlevels\u001b[0m\u001b[0;34m=\u001b[0m\u001b[0;34m[\u001b[0m\u001b[0;36m0\u001b[0m\u001b[0;34m]\u001b[0m\u001b[0;34m,\u001b[0m \u001b[0mcolors\u001b[0m\u001b[0;34m=\u001b[0m\u001b[0;34m'g'\u001b[0m\u001b[0;34m)\u001b[0m\u001b[0;34m\u001b[0m\u001b[0;34m\u001b[0m\u001b[0m\n\u001b[1;32m      6\u001b[0m \u001b[0max\u001b[0m\u001b[0;34m.\u001b[0m\u001b[0mcontour\u001b[0m\u001b[0;34m(\u001b[0m\u001b[0mgrid\u001b[0m\u001b[0;34m.\u001b[0m\u001b[0mcoordinate_vectors\u001b[0m\u001b[0;34m[\u001b[0m\u001b[0;36m2\u001b[0m\u001b[0;34m]\u001b[0m\u001b[0;34m,\u001b[0m \u001b[0mgrid\u001b[0m\u001b[0;34m.\u001b[0m\u001b[0mcoordinate_vectors\u001b[0m\u001b[0;34m[\u001b[0m\u001b[0;36m0\u001b[0m\u001b[0;34m]\u001b[0m\u001b[0;34m,\u001b[0m \u001b[0msafe_values\u001b[0m\u001b[0;34m[\u001b[0m\u001b[0;34m:\u001b[0m\u001b[0;34m,\u001b[0m\u001b[0midx1\u001b[0m\u001b[0;34m,\u001b[0m\u001b[0;34m:\u001b[0m\u001b[0;34m,\u001b[0m\u001b[0midx2\u001b[0m\u001b[0;34m]\u001b[0m\u001b[0;34m,\u001b[0m \u001b[0mlevels\u001b[0m\u001b[0;34m=\u001b[0m\u001b[0;34m[\u001b[0m\u001b[0;36m0\u001b[0m\u001b[0;34m]\u001b[0m\u001b[0;34m,\u001b[0m \u001b[0mcolors\u001b[0m\u001b[0;34m=\u001b[0m\u001b[0;34m'r'\u001b[0m\u001b[0;34m)\u001b[0m\u001b[0;34m\u001b[0m\u001b[0;34m\u001b[0m\u001b[0m\n\u001b[0;32m----> 7\u001b[0;31m \u001b[0max\u001b[0m\u001b[0;34m.\u001b[0m\u001b[0mcontour\u001b[0m\u001b[0;34m(\u001b[0m\u001b[0mgrid\u001b[0m\u001b[0;34m.\u001b[0m\u001b[0mcoordinate_vectors\u001b[0m\u001b[0;34m[\u001b[0m\u001b[0;36m2\u001b[0m\u001b[0;34m]\u001b[0m\u001b[0;34m,\u001b[0m \u001b[0mgrid\u001b[0m\u001b[0;34m.\u001b[0m\u001b[0mcoordinate_vectors\u001b[0m\u001b[0;34m[\u001b[0m\u001b[0;36m0\u001b[0m\u001b[0;34m]\u001b[0m\u001b[0;34m,\u001b[0m \u001b[0mtarget_values\u001b[0m\u001b[0;34m[\u001b[0m\u001b[0;34m-\u001b[0m\u001b[0;36m1\u001b[0m\u001b[0;34m]\u001b[0m\u001b[0;34m[\u001b[0m\u001b[0;34m:\u001b[0m\u001b[0;34m,\u001b[0m\u001b[0midx1\u001b[0m\u001b[0;34m,\u001b[0m\u001b[0;34m:\u001b[0m\u001b[0;34m,\u001b[0m\u001b[0midx2\u001b[0m\u001b[0;34m]\u001b[0m\u001b[0;34m,\u001b[0m \u001b[0mlevels\u001b[0m\u001b[0;34m=\u001b[0m\u001b[0;34m[\u001b[0m\u001b[0;36m0\u001b[0m\u001b[0;34m]\u001b[0m\u001b[0;34m,\u001b[0m \u001b[0mcolors\u001b[0m\u001b[0;34m=\u001b[0m\u001b[0;34m'b'\u001b[0m\u001b[0;34m)\u001b[0m\u001b[0;34m\u001b[0m\u001b[0;34m\u001b[0m\u001b[0m\n\u001b[0m",
      "\u001b[0;31mNameError\u001b[0m: name 'target_values' is not defined"
     ]
    },
    {
     "data": {
      "image/png": "[encoded data removed]",
      "text/plain": [
       "<Figure size 720x720 with 1 Axes>"
      ]
     },
     "metadata": {
      "needs_background": "light"
     },
     "output_type": "display_data"
    }
   ],
   "source": [
    "fig, ax = plt.subplots(figsize=(10, 10))\n",
    "idx1 = 10\n",
    "idx2 = 10\n",
    "\n",
    "cont = ax.contour(grid.coordinate_vectors[2], grid.coordinate_vectors[0], quad_tabular_cbf.vf_table[:,idx1,:,idx2], levels=[0], colors='g')\n",
    "ax.contour(grid.coordinate_vectors[2], grid.coordinate_vectors[0], safe_values[:,idx1,:,idx2], levels=[0], colors='r')\n",
    "ax.contour(grid.coordinate_vectors[2], grid.coordinate_vectors[0], target_values[-1][:,idx1,:,idx2], levels=[0], colors='b')"
   ]
  },
  {
   "cell_type": "code",
   "execution_count": null,
   "metadata": {},
   "outputs": [
    {
     "name": "stderr",
     "output_type": "stream",
     "text": [
      "100%|##########|  5.0000/5.0 [05:07<00:00, 61.56s/sim_s]\n"
     ]
    }
   ],
   "source": [
    "init_values = quad_tabular_cbf.vf_table\n",
    "initial_time = 0.\n",
    "final_time = -5.\n",
    "times = jnp.linspace(initial_time, final_time, 101)\n",
    "target_values = hj.solve(solver_settings, dyn_hjr, grid, times, init_values)"
   ]
  }
 ],
 "metadata": {
  "interpreter": {
   "hash": "dd18f8e864d9e4797648b1faf96fda588ea380f7d87c56edba86c66e29d094cc"
  },
  "kernelspec": {
   "display_name": "Python 3.6.13 64-bit ('cbf_hjr': conda)",
   "language": "python",
   "name": "python3"
  },
  "language_info": {
   "codemirror_mode": {
    "name": "ipython",
    "version": 3
   },
   "file_extension": ".py",
   "mimetype": "text/x-python",
   "name": "python",
   "nbconvert_exporter": "python",
   "pygments_lexer": "ipython3",
   "version": "3.8.12"
  },
  "orig_nbformat": 4
 },
 "nbformat": 4,
 "nbformat_minor": 2
}
