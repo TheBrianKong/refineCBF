{
 "cells": [
  {
   "cell_type": "markdown",
   "metadata": {},
   "source": [
    "# 2D Bicopter (Quadcopter)\n",
    "\n",
    "We consider the self-righting quadrotor problem, see also: [Stanford AA203 HW](https://stanfordasl.github.io/aa203_sp2021/pdfs/homework/AA203_HW3.pdf)\n",
    "\n",
    "We only consider vertical obstacles (floor and ceiling) and hence consider the reduced state for obstacle avoidance, whereas we consider the extended state for reaching a target\n",
    "\n",
    "\n",
    "Extended state: $\\mathbf{x} = [x, v_x, y, v_y, \\phi, \\omega]^T$\n",
    "Reduced state: $\\mathbf{x} = [y, v_y, \\phi, \\omega]^T$\n",
    "\n",
    "Extended Dynamics:\n",
    "$$\\dot{x} = \\begin{bmatrix}x_2 \\\\ \\frac{ - C_D^v x_2}{m} \\\\ x_4 \\\\ \\frac{ - C_D^v x_4}{m} - g\\\\ x_6 \\\\ \\frac{- C_D^\\phi x_6}{I{yy}}\\end{bmatrix} + \\begin{bmatrix}0 & 0 \\\\ \\frac{-\\sin(x_5)}{m} & \\frac{-\\sin(x_5)}{m} \\\\0 & 0 \\\\ \\frac{\\cos(x_5)}{m} & \\frac{\\cos(x_5)}{m} \\\\ 0 & 0 \\\\ -\\frac{l}{I_{yy}} & \\frac{l}{I_{yy}}\\end{bmatrix}\\underbrace{\\begin{bmatrix}T_1 \\\\ T_2\\end{bmatrix}}_{u}$$\n",
    "\n",
    "\n",
    "Reduced Dynamics: \n",
    "$$\\dot{x} = \\begin{bmatrix}x_2 \\\\ \\frac{ - C_D^v x_2}{m} - g \\\\ x_4 \\\\ \\frac{- C_D^\\phi x_4}{I{yy}}\\end{bmatrix} + \\begin{bmatrix}0 & 0 \\\\ \\frac{\\cos(x_3)}{m} & \\frac{\\cos(x_3)}{m} \\\\ 0 & 0 \\\\ -\\frac{l}{I_{yy}} & \\frac{l}{I_{yy}}\\end{bmatrix}\\underbrace{\\begin{bmatrix}T_1 \\\\ T_2\\end{bmatrix}}_{u}"
   ]
  },
  {
   "cell_type": "code",
   "execution_count": 1,
   "metadata": {},
   "outputs": [],
   "source": [
    "%load_ext autoreload\n",
    "%autoreload 2"
   ]
  },
  {
   "cell_type": "code",
   "execution_count": null,
   "metadata": {},
   "outputs": [],
   "source": [
    "import sys; sys.version"
   ]
  },
  {
   "cell_type": "code",
   "execution_count": 177,
   "metadata": {},
   "outputs": [],
   "source": [
    "import refine_cbfs\n",
    "from cbf_opt import ControlAffineDynamics, ControlAffineCBF, ControlAffineASIF, utils\n",
    "import matplotlib.pyplot as plt\n",
    "import hj_reachability as hj\n",
    "import jax.numpy as jnp\n",
    "import numpy as np\n",
    "import seaborn as sns"
   ]
  },
  {
   "cell_type": "markdown",
   "metadata": {},
   "source": [
    "## Setup Problem (dynamics, environment and CBF)"
   ]
  },
  {
   "cell_type": "markdown",
   "metadata": {},
   "source": [
    "### Parameter values"
   ]
  },
  {
   "cell_type": "markdown",
   "metadata": {},
   "source": [
    "Dynamics properties"
   ]
  },
  {
   "cell_type": "code",
   "execution_count": null,
   "metadata": {},
   "outputs": [],
   "source": [
    "Cd_v = 0.25  # Drag coefficient\n",
    "g = 9.81  # kg m / s^2\n",
    "Cd_phi = 0.02255  # Drag coefficient\n",
    "mass = 2.5  # kg\n",
    "length = 1.0  # m\n",
    "Iyy = 1.0  # kg m^2\n",
    "dt = 0.01  # s\n",
    "\n",
    "umax = 0.75 * mass * g * np.ones(2)\n",
    "umin = np.zeros_like(umax)"
   ]
  },
  {
   "cell_type": "markdown",
   "metadata": {},
   "source": [
    "### Dynamics"
   ]
  },
  {
   "cell_type": "code",
   "execution_count": 4,
   "metadata": {},
   "outputs": [],
   "source": [
    "class QuadVerticalDynamics(dynamics.ControlAffineDynamics):\n",
    "    def __init__(self, params, **kwargs):\n",
    "        params['n_dims'] = 4\n",
    "        params['control_dims'] = 2\n",
    "\n",
    "        self.Cd_v = params[\"Cd_v\"]\n",
    "        self.g = params[\"g\"]\n",
    "        self.Cd_phi = params[\"Cd_phi\"]\n",
    "        self.mass = params[\"mass\"]\n",
    "        self.length = params[\"length\"]\n",
    "        self.Iyy = params[\"Iyy\"]\n",
    "        super().__init__(params, **kwargs)\n",
    "\n",
    "    \n",
    "    def open_loop_dynamics(self, state, time=0.0):\n",
    "        return jnp.array([\n",
    "            state[1], \n",
    "            -state[1] * self.Cd_v / self.mass - self.g, \n",
    "            state[3], \n",
    "            -state[3] * self.Cd_phi / self.Iyy\n",
    "            ])\n",
    "    \n",
    "    def control_matrix(self, state, time=0.0):\n",
    "        return jnp.array([\n",
    "            [0, 0], \n",
    "            [jnp.cos(state[2]) / self.mass, jnp.cos(state[2]) / self.mass], \n",
    "            [0, 0], \n",
    "            [-self.length / self.Iyy, self.length / self.Iyy]\n",
    "            ])\n",
    "\n",
    "    "
   ]
  },
  {
   "cell_type": "code",
   "execution_count": null,
   "metadata": {},
   "outputs": [],
   "source": [
    "class QuadPlanarDynamics(dynamics.ControlAffineDynamics):\n",
    "    def __init__(self, params, **kwargs):\n",
    "        params['n_dims'] = 6\n",
    "        params['control_dims'] = 2\n",
    "\n",
    "        self.Cd_v = params[\"Cd_v\"]\n",
    "        self.g = params[\"g\"]\n",
    "        self.Cd_phi = params[\"Cd_phi\"]\n",
    "        self.mass = params[\"mass\"]\n",
    "        self.length = params[\"length\"]\n",
    "        self.Iyy = params[\"Iyy\"]\n",
    "        super().__init__(params, **kwargs)\n",
    "\n",
    "    \n",
    "    def open_loop_dynamics(self, state, time=0.0):\n",
    "        return np.array([\n",
    "            state[1], \n",
    "            - state[1] * self.Cd_v / self.mass,\n",
    "            state[3],\n",
    "            - state[3] * self.Cd_v / self.mass - self.g,\n",
    "            state[5], \n",
    "            -state[5] * self.Cd_phi / self.Iyy\n",
    "            ])\n",
    "    \n",
    "    def state_jacobian(self, state, control, time=0.): # TODO: Should this include state[5]?\n",
    "        return np.array([\n",
    "            [0., 1., 0., 0., 0., 0.],\n",
    "            [0., -self.Cd_v / self.mass, 0., 0., -(control[0] + control[1]) * np.cos(state[4]) / self.mass, 0.],\n",
    "            [0., 0., 0., 1., 0., 0.],\n",
    "            [0., 0., 0., -self.Cd_v / self.mass, (-control[0] + control[1]) * np.sin(state[4]) / self.mass, 0.],\n",
    "            [0., 0., 0., 0., 0., 1.],\n",
    "            [0., 0., 0., 0., 0., -self.Cd_phi / self.Iyy]\n",
    "        ])\n",
    "    def control_matrix(self, state, time=0.0):\n",
    "        return np.array([\n",
    "            [0, 0],\n",
    "            [-np.sin(state[4]) / self.mass, -np.sin(state[4]) / self.mass],\n",
    "            [0, 0], \n",
    "            [np.cos(state[4]) / self.mass, np.cos(state[4]) / self.mass], \n",
    "            [0, 0], \n",
    "            [-self.length / self.Iyy, self.length / self.Iyy]\n",
    "            ])"
   ]
  },
  {
   "cell_type": "code",
   "execution_count": 5,
   "metadata": {},
   "outputs": [
    {
     "name": "stderr",
     "output_type": "stream",
     "text": [
      "WARNING:absl:No GPU/TPU found, falling back to CPU. (Set TF_CPP_MIN_LOG_LEVEL=0 and rerun for more info.)\n"
     ]
    }
   ],
   "source": [
    "params = {\"Cd_v\": Cd_v, \"g\": g, \"Cd_phi\": Cd_phi, \"mass\": mass, \n",
    "          \"length\": length, \"Iyy\": Iyy, \"dt\": dt}\n",
    "\n",
    "dyn = QuadVerticalDynamics(params)\n",
    "extended_dyn = QuadPlanarDynamics(params)"
   ]
  },
  {
   "cell_type": "markdown",
   "metadata": {},
   "source": [
    "### Environment:\n",
    "Safe set is as follows: \n",
    "$$\\mathcal{E} = [1, 9] \\times [-6, 6] \\times [-\\infty, \\infty] \\times [-8,8]$$"
   ]
  },
  {
   "cell_type": "code",
   "execution_count": 7,
   "metadata": {},
   "outputs": [],
   "source": [
    "def safe_set(state):\n",
    "    \"\"\"A real-valud function s.t. the zero-superlevel set is the safe set\n",
    "\n",
    "    Args:\n",
    "        state : An unbatched (!) state vector, an array of shape `(4,)` containing `[y, v_y, phi, omega]`.\n",
    "\n",
    "    Returns:\n",
    "        A scalar, positive iff the state is in the safe set\n",
    "    \"\"\"\n",
    "    return jnp.min(jnp.array([state[0] - 1, 9 - state[0], state[1] + 6, 6 - state[1], state[3] + 8, 8 - state[3]]))\n"
   ]
  },
  {
   "cell_type": "markdown",
   "metadata": {},
   "source": [
    "### Initial Control Barrier Function"
   ]
  },
  {
   "cell_type": "code",
   "execution_count": null,
   "metadata": {},
   "outputs": [],
   "source": [
    "class QuadVerticalCBF(cbf.ControlAffineCBF):\n",
    "    def __init__(self, dynamics, params, **kwargs):\n",
    "        self.scaling = params[\"scaling\"]\n",
    "        super().__init__(dynamics, params, **kwargs)\n",
    "\n",
    "    def vf(self, state, time=0.0):\n",
    "        return 10 - self.scaling[0] * (5 - state[0]) ** 2 - self.scaling[1] * (state[1]) ** 2 - self.scaling[2] * (state[2]) ** 2 - self.scaling[3] * (state[3]) ** 2\n",
    "\n",
    "    def vf_dt_partial(self, state, time=0.0):\n",
    "        return 0.0\n",
    "    \n",
    "    def _grad_vf(self, state, time=0.0):\n",
    "        return self.scaling * np.array([2 * (5 - state[0]), - 2 * state[1], - 2 * state[2], - 2 * state[3]])"
   ]
  },
  {
   "cell_type": "code",
   "execution_count": null,
   "metadata": {},
   "outputs": [],
   "source": [
    "cbf_params = dict()\n",
    "cbf_params[\"scaling\"] = np.array([0.75, 0.5, 2., 0.5])\n",
    "quad_cbf = QuadVerticalCBF(dyn, cbf_params)"
   ]
  },
  {
   "cell_type": "code",
   "execution_count": null,
   "metadata": {},
   "outputs": [],
   "source": []
  },
  {
   "cell_type": "markdown",
   "metadata": {},
   "source": [
    "Two options: We learn a value function that indicates backup set (in a small region of the state space maybe around the hovering) and an unsafe region (outside of the operating range) OR we define a CBF ourselves with a bit of imagination\n",
    "\n",
    "## Current implementation: Self-defined approximately correct value function"
   ]
  },
  {
   "cell_type": "code",
   "execution_count": 8,
   "metadata": {},
   "outputs": [],
   "source": [
    "class QuadVerticalCBF(cbf.ControlAffineCBF):\n",
    "    def __init__(self, dynamics, params, **kwargs):\n",
    "        self.scaling = params[\"scaling\"]\n",
    "        super().__init__(dynamics, params, **kwargs)\n",
    "\n",
    "    def vf(self, state, time=0.0):\n",
    "        return 10 - self.scaling[0] * (5 - state[0]) ** 2 - self.scaling[1] * (state[1]) ** 2 - self.scaling[2] * (state[2]) ** 2 - self.scaling[3] * (state[3]) ** 2\n",
    "\n",
    "    def vf_dt_partial(self, state, time=0.0):\n",
    "        return 0.0\n",
    "    \n",
    "    def _grad_vf(self, state, time=0.0):\n",
    "        return self.scaling * np.array([2 * (5 - state[0]), - 2 * state[1], - 2 * state[2], - 2 * state[3]])"
   ]
  },
  {
   "cell_type": "code",
   "execution_count": 9,
   "metadata": {},
   "outputs": [],
   "source": [
    "cbf_params = dict()\n",
    "cbf_params[\"scaling\"] = np.array([0.75, 0.5, 2., 0.5])\n",
    "quad_cbf = QuadVerticalCBF(dyn, cbf_params)"
   ]
  },
  {
   "cell_type": "markdown",
   "metadata": {},
   "source": [
    "## Classical HJ solution"
   ]
  },
  {
   "cell_type": "code",
   "execution_count": 10,
   "metadata": {},
   "outputs": [],
   "source": [
    "dyn_hjr = dynamics_hjr.HJControlAffineDynamics(dyn, control_space=hj.sets.Box(jnp.array(umin), jnp.array(umax)))\n",
    "\n",
    "state_domain = hj.sets.Box(lo=jnp.array([0., -8., -jnp.pi, -10.]), hi=jnp.array([10., 8., jnp.pi, 10.]))\n",
    "grid_resolution = (25, 25, 30, 25)  # can/should be increased if running on GPU, or if extra patient"
   ]
  },
  {
   "cell_type": "code",
   "execution_count": 11,
   "metadata": {},
   "outputs": [],
   "source": [
    "grid = hj.Grid.from_lattice_parameters_and_boundary_conditions(state_domain, grid_resolution, periodic_dims=2)"
   ]
  },
  {
   "cell_type": "code",
   "execution_count": 12,
   "metadata": {},
   "outputs": [],
   "source": [
    "safe_values = hj.utils.multivmap(safe_set, jnp.arange(4))(grid.states)"
   ]
  },
  {
   "cell_type": "code",
   "execution_count": 13,
   "metadata": {},
   "outputs": [],
   "source": [
    "backwards_reachable_tube = lambda obstacle: (lambda t, x: jnp.minimum(x, obstacle))\n",
    "solver_settings = hj.SolverSettings.with_accuracy(\"high\", value_postprocessor=backwards_reachable_tube(safe_values))"
   ]
  },
  {
   "cell_type": "code",
   "execution_count": 14,
   "metadata": {},
   "outputs": [],
   "source": [
    "# init_values = safe_values\n",
    "# initial_time = 0.\n",
    "# final_time = -5.\n",
    "# times = jnp.linspace(initial_time, final_time, 101)\n",
    "# target_values_hjr = hj.solve(solver_settings, dyn_hjr, grid, times, init_values)\n",
    "# np.save(\"quad_2d/target_values_hjr.npy\", target_values_hjr)\n",
    "target_values_hjr = np.load(\"quad_2d/target_values_hjr.npy\")"
   ]
  },
  {
   "cell_type": "code",
   "execution_count": 15,
   "metadata": {},
   "outputs": [],
   "source": [
    "def render_frame(i, colorbar=False):\n",
    "    global cont\n",
    "    for c in cont.collections:\n",
    "        c.remove()\n",
    "        \n",
    "    cont = ax.contour(grid.coordinate_vectors[2], grid.coordinate_vectors[0], value_function[i][:,12,:,12], levels=[0], colors='g')"
   ]
  },
  {
   "cell_type": "code",
   "execution_count": 16,
   "metadata": {},
   "outputs": [
    {
     "data": {
      "image/png": "[encoded data removed]",
      "text/plain": [
       "<Figure size 864x648 with 1 Axes>"
      ]
     },
     "metadata": {
      "needs_background": "light"
     },
     "output_type": "display_data"
    }
   ],
   "source": [
    "value_function = target_values_hjr\n",
    "filename=\"quad_cbf.mp4\"\n",
    "proxy = [] \n",
    "\n",
    "fig, ax = plt.subplots(figsize=(12, 9))\n",
    "\n",
    "cs = ax.contour(grid.coordinate_vectors[2], grid.coordinate_vectors[0], safe_values[:,12,:,12], levels=[0], colors='k')\n",
    "proxy += [plt.Rectangle((0,0),1,1,ec = 'k', fc='white') for pc in cs.collections]\n",
    "\n",
    "cont = ax.contour(grid.coordinate_vectors[2], grid.coordinate_vectors[0], value_function[0][:,12,:,12], levels=[0], colors='g')\n",
    "proxy += [plt.Rectangle((0,0),1,1,ec = 'g', fc='white')\n",
    "        for pc in cont.collections]\n",
    "cs = ax.contour(grid.coordinate_vectors[2], grid.coordinate_vectors[0], value_function[-1][:,12,:,12], levels=[0], colors='orange')\n",
    "proxy += [plt.Rectangle((0,0),1,1,ec = 'orange', fc='white')\n",
    "        for pc in cs.collections]\n",
    "ax.grid()\n",
    "ax.set_xlabel(\"$\\\\phi$\")\n",
    "ax.set_ylabel(\"$y (height)$\")\n",
    "ax.set_title(\"Quadcopter viable set with $v=0, \\omega = 0$\")\n",
    "ax.legend(proxy, [\"Safe set\", \"$\\mathcal{C}(t)$\", \"Viability kernel\"], prop={'size': 20})\n",
    "\n",
    "render_frame(0, False)\n",
    "animation = anim.FuncAnimation(fig, render_frame, value_function.shape[0], interval=50)\n",
    "# animation.save(filename, writer='ffmpeg', fps=30)"
   ]
  },
  {
   "cell_type": "markdown",
   "metadata": {},
   "source": [
    "# CBF HJR\n"
   ]
  },
  {
   "cell_type": "code",
   "execution_count": 180,
   "metadata": {},
   "outputs": [],
   "source": [
    "quad_tabular_cbf = cbf_hjr.TabularControlAffineCBF(dyn, grid=grid)"
   ]
  },
  {
   "cell_type": "code",
   "execution_count": 18,
   "metadata": {},
   "outputs": [
    {
     "name": "stderr",
     "output_type": "stream",
     "text": [
      "100%|██████████| 25/25 [00:14<00:00,  1.71it/s]\n"
     ]
    }
   ],
   "source": [
    "quad_tabular_cbf.tabularize_cbf(quad_cbf)"
   ]
  },
  {
   "cell_type": "code",
   "execution_count": 19,
   "metadata": {},
   "outputs": [],
   "source": [
    "# init_values = quad_tabular_cbf.vf_table\n",
    "# initial_time = 0.\n",
    "# final_time = -5.\n",
    "# times = jnp.linspace(initial_time, final_time, 101)\n",
    "# target_values = hj.solve(solver_settings, dyn_hjr, grid, times, init_values)"
   ]
  },
  {
   "cell_type": "code",
   "execution_count": 20,
   "metadata": {},
   "outputs": [],
   "source": [
    "# fig, ax = plt.subplots(figsize=(10, 10))\n",
    "# idx1 = 10\n",
    "# idx2 = 10\n",
    "\n",
    "# cont = ax.contour(grid.coordinate_vectors[2], grid.coordinate_vectors[0], quad_tabular_cbf.vf_table[:,idx1,:,idx2], levels=[0], colors='g')\n",
    "# ax.contour(grid.coordinate_vectors[2], grid.coordinate_vectors[0], safe_values[:,idx1,:,idx2], levels=[0], colors='r')\n",
    "# ax.contour(grid.coordinate_vectors[2], grid.coordinate_vectors[0], target_values[-1][:,idx1,:,idx2], levels=[0], colors='b')"
   ]
  },
  {
   "cell_type": "code",
   "execution_count": 21,
   "metadata": {},
   "outputs": [],
   "source": [
    "# quad_tabular_cbf.vf_table = np.array(target_values[-1])"
   ]
  },
  {
   "cell_type": "markdown",
   "metadata": {},
   "source": [
    "## Online implementation"
   ]
  },
  {
   "cell_type": "markdown",
   "metadata": {},
   "source": [
    "We consider the setting of having a linearized LQR nominal controller that attempts to stabilize us at a given point in the state space. Specifically, we consider a problem where we are \"thrown\" into the air by a user and we wish to stabilize the drone at a certain height (and possibly a non-constant angle)"
   ]
  },
  {
   "cell_type": "markdown",
   "metadata": {},
   "source": [
    "Additionally we could include a 6D drone that include x positioning for the stabilizing behavior to get a more realistic scenario"
   ]
  },
  {
   "cell_type": "markdown",
   "metadata": {},
   "source": [
    "AA203 text: Consider the goal of developing a self-righting quadrotor, i.e., a flying drone that you can chuck into the air at a range of poses/velocities which will autonomously regulate to level flight while obeying dynamics/controls/operational-envelope constraints."
   ]
  },
  {
   "cell_type": "code",
   "execution_count": 22,
   "metadata": {},
   "outputs": [],
   "source": [
    "class QuadPlanarDynamics(dynamics.ControlAffineDynamics):\n",
    "    def __init__(self, params, **kwargs):\n",
    "        params['n_dims'] = 6\n",
    "        params['control_dims'] = 2\n",
    "\n",
    "        self.Cd_v = params[\"Cd_v\"]\n",
    "        self.g = params[\"g\"]\n",
    "        self.Cd_phi = params[\"Cd_phi\"]\n",
    "        self.mass = params[\"mass\"]\n",
    "        self.length = params[\"length\"]\n",
    "        self.Iyy = params[\"Iyy\"]\n",
    "        super().__init__(params, **kwargs)\n",
    "\n",
    "    \n",
    "    def open_loop_dynamics(self, state, time=0.0):\n",
    "        return np.array([\n",
    "            state[1], \n",
    "            - state[1] * self.Cd_v / self.mass,\n",
    "            state[3],\n",
    "            - state[3] * self.Cd_v / self.mass - self.g,\n",
    "            state[5], \n",
    "            -state[5] * self.Cd_phi / self.Iyy\n",
    "            ])\n",
    "    \n",
    "    def state_jacobian(self, state, control, time=0.): # TODO: Should this include state[5]?\n",
    "        return np.array([\n",
    "            [0., 1., 0., 0., 0., 0.],\n",
    "            [0., -self.Cd_v / self.mass, 0., 0., -(control[0] + control[1]) * np.cos(state[4]) / self.mass, 0.],\n",
    "            [0., 0., 0., 1., 0., 0.],\n",
    "            [0., 0., 0., -self.Cd_v / self.mass, (-control[0] + control[1]) * np.sin(state[4]) / self.mass, 0.],\n",
    "            [0., 0., 0., 0., 0., 1.],\n",
    "            [0., 0., 0., 0., 0., -self.Cd_phi / self.Iyy]\n",
    "        ])\n",
    "    def control_matrix(self, state, time=0.0):\n",
    "        return np.array([\n",
    "            [0, 0],\n",
    "            [-np.sin(state[4]) / self.mass, -np.sin(state[4]) / self.mass],\n",
    "            [0, 0], \n",
    "            [np.cos(state[4]) / self.mass, np.cos(state[4]) / self.mass], \n",
    "            [0, 0], \n",
    "            [-self.length / self.Iyy, self.length / self.Iyy]\n",
    "            ])"
   ]
  },
  {
   "cell_type": "code",
   "execution_count": 112,
   "metadata": {},
   "outputs": [],
   "source": [
    "x_target_1 = np.array([15, 0, 5, 0, 0, 0])\n",
    "x_target_2 = np.array([15, 0, 0.5, 0, 0, 0])\n",
    "x_target_3 = np.array([15, 0, 12, 0, 0, 0])\n",
    "\n",
    "\n",
    "control_at_rest = np.ones(2) * dyn.mass * dyn.g / 2.\n",
    "\n",
    "x_start_1 = np.array([0, 0, 0, 0, 0, 0])  # Infeasible start, see what happens\n",
    "x_start_2 = np.array([0, -2, 3, 4, np.pi/4, 4])  # Feasible start\n",
    "x_start_3 = np.array([0, 0, 5, 0, 0, 0])  # Feasible start (easy)\n"
   ]
  },
  {
   "cell_type": "markdown",
   "metadata": {},
   "source": [
    "## Creating a handcrafted CBF based on Lyapunov equations"
   ]
  },
  {
   "cell_type": "code",
   "execution_count": 24,
   "metadata": {},
   "outputs": [],
   "source": [
    "extended_dyn = QuadPlanarDynamics(params)"
   ]
  },
  {
   "cell_type": "code",
   "execution_count": 25,
   "metadata": {},
   "outputs": [],
   "source": [
    "from scipy.linalg import solve_continuous_lyapunov, solve_continuous_are"
   ]
  },
  {
   "cell_type": "code",
   "execution_count": 26,
   "metadata": {},
   "outputs": [],
   "source": [
    "A, B = extended_dyn.linearized_ct_dynamics(x_target_1, control_at_rest)"
   ]
  },
  {
   "cell_type": "code",
   "execution_count": 27,
   "metadata": {},
   "outputs": [],
   "source": [
    "A_d, B_d = extended_dyn.linearized_dt_dynamics(x_target_1, control_at_rest)"
   ]
  },
  {
   "cell_type": "code",
   "execution_count": 28,
   "metadata": {},
   "outputs": [],
   "source": [
    "K = utils.lqr(A_d, B_d, np.eye(6), np.eye(2))"
   ]
  },
  {
   "cell_type": "code",
   "execution_count": 29,
   "metadata": {},
   "outputs": [],
   "source": [
    "A_cl = A - B @ K\n",
    "assert (np.linalg.eig(A_cl)[0] < 0).all(), \"System is not stable\""
   ]
  },
  {
   "cell_type": "code",
   "execution_count": 30,
   "metadata": {},
   "outputs": [],
   "source": [
    "P = utils.continuous_lyap(A_cl, np.eye(6))"
   ]
  },
  {
   "cell_type": "code",
   "execution_count": 31,
   "metadata": {},
   "outputs": [],
   "source": [
    "expert_cbf = lambda V, c, x_target: lambda x, t=0.: c - (x - x_target) @ V @ (x - x_target)"
   ]
  },
  {
   "cell_type": "code",
   "execution_count": 32,
   "metadata": {},
   "outputs": [],
   "source": [
    "state_domain = hj.sets.Box(lo=jnp.array([-30, -8., 0., -8., -jnp.pi, -10.]), hi=jnp.array([30., 8., 10., 8., jnp.pi, 10.]))\n",
    "grid_resolution = (5, 5, 25, 25, 30, 25)"
   ]
  },
  {
   "cell_type": "code",
   "execution_count": 33,
   "metadata": {},
   "outputs": [],
   "source": [
    "extended_grid = grid.from_lattice_parameters_and_boundary_conditions(state_domain, grid_resolution, periodic_dims=4)"
   ]
  },
  {
   "cell_type": "code",
   "execution_count": 34,
   "metadata": {},
   "outputs": [],
   "source": [
    "operating_state = np.array([0, 0, 5., 0, 0, 0])  # In the center of the operating range\n",
    "control_at_rest = extended_dyn.mass * extended_dyn.g / 2 * np.ones(2)"
   ]
  },
  {
   "cell_type": "code",
   "execution_count": 35,
   "metadata": {},
   "outputs": [],
   "source": [
    "cbf_alt = expert_cbf(P, 5, x_target_1)\n",
    "vals = hj.utils.multivmap(cbf_alt, jnp.arange(6))(extended_grid.states)"
   ]
  },
  {
   "cell_type": "code",
   "execution_count": 38,
   "metadata": {},
   "outputs": [
    {
     "data": {
      "text/plain": [
       "<matplotlib.colorbar.Colorbar at 0x7f19882a1580>"
      ]
     },
     "execution_count": 38,
     "metadata": {},
     "output_type": "execute_result"
    },
    {
     "data": {
      "image/png": "[encoded data removed]",
      "text/plain": [
       "<Figure size 720x720 with 2 Axes>"
      ]
     },
     "metadata": {
      "needs_background": "light"
     },
     "output_type": "display_data"
    }
   ],
   "source": [
    "\n",
    "fig, ax = plt.subplots(figsize=(10,10))\n",
    "c = ax.contourf(grid.coordinate_vectors[2], grid.coordinate_vectors[0], vals[3, 2, :, 13, :, 13])\n",
    "fig.colorbar(c)"
   ]
  },
  {
   "cell_type": "code",
   "execution_count": 39,
   "metadata": {},
   "outputs": [],
   "source": [
    "# quad_tabular_cbf_2 = cbf_hjr.TabularCBF(dyn, grid=grid)"
   ]
  },
  {
   "cell_type": "code",
   "execution_count": 40,
   "metadata": {},
   "outputs": [],
   "source": [
    "# quad_tabular_cbf_2.vf_table = vals"
   ]
  },
  {
   "cell_type": "code",
   "execution_count": 41,
   "metadata": {},
   "outputs": [],
   "source": [
    "nominal_control = lambda u_ref, x_ref, F: lambda x, t: np.clip(u_ref - F @ (x - x_ref), umin, umax)"
   ]
  },
  {
   "cell_type": "code",
   "execution_count": 42,
   "metadata": {},
   "outputs": [],
   "source": [
    "nominal_control_2 = lambda u_ref, x_ref, F: lambda x, t: np.clip(u_ref - np.array([1, -1]) * (x[0] - x_ref[0]) - 10 * np.ones(2) * (x[2] - x_ref[2]), umin, umax)"
   ]
  },
  {
   "cell_type": "code",
   "execution_count": 43,
   "metadata": {},
   "outputs": [],
   "source": [
    "from tqdm import tqdm"
   ]
  },
  {
   "cell_type": "code",
   "execution_count": 181,
   "metadata": {},
   "outputs": [],
   "source": [
    "quad_tabular_cbf.vf_table = target_values_hjr[-1]"
   ]
  },
  {
   "cell_type": "code",
   "execution_count": 182,
   "metadata": {},
   "outputs": [],
   "source": [
    "alpha = lambda x: 5 * x"
   ]
  },
  {
   "cell_type": "code",
   "execution_count": 272,
   "metadata": {},
   "outputs": [],
   "source": [
    "x0 = np.array([0, 3, 2, -3, - np.pi/4, 1])\n",
    "x_goal = np.array([15, 0, 1.5, 0, 0, 0])\n",
    "nom_control = nominal_control(control_at_rest, x_goal, K)\n",
    "quad_asif = asif.ControlAffineASIF(dyn, quad_tabular_cbf, alpha=alpha, nominal_policy=nom_control, umin=umin, umax=umax)"
   ]
  },
  {
   "cell_type": "code",
   "execution_count": 273,
   "metadata": {},
   "outputs": [],
   "source": [
    "new_vals_broadcast = np.repeat(np.repeat(safe_values[np.newaxis, ...], 5, axis=0)[np.newaxis, ...], 5, axis=0)\n",
    "new_vf_vals = np.repeat(np.repeat(quad_tabular_cbf.vf_table[np.newaxis, ...], 5, axis=0)[np.newaxis, ...], 5, axis=0)"
   ]
  },
  {
   "cell_type": "code",
   "execution_count": 274,
   "metadata": {},
   "outputs": [
    {
     "name": "stderr",
     "output_type": "stream",
     "text": [
      "100%|██████████| 1000/1000 [00:00<00:00, 2932.42it/s]\n",
      "100%|██████████| 1000/1000 [02:07<00:00,  7.83it/s]\n"
     ]
    }
   ],
   "source": [
    "states = [x0]\n",
    "control = []\n",
    "control_filt = []\n",
    "control_filt_ws = []\n",
    "x_filt = x0 \n",
    "betas = []\n",
    "states_filt = [x0]\n",
    "x_filt_ws = x0\n",
    "states_filt_ws = [x0]\n",
    "# vf_filt = [dubins_cbf.vf(x0, 0.)]\n",
    "vf_filt_ws = [quad_tabular_cbf.vf(x0[2:], 0.)]\n",
    "ts = np.arange(0, 10, .01)\n",
    "\n",
    "x = x0\n",
    "for i, t in enumerate(tqdm(ts)):  \n",
    "    # if i % 5 == 0:\n",
    "    input_nom = np.array(nom_control(x, t))\n",
    "\n",
    "    x = np.array(extended_dyn.step(x, input_nom))\n",
    "    x[4] = (x[4] + np.pi) % (2 * np.pi) - np.pi\n",
    "    states.append(x)\n",
    "    control.append(input_nom)\n",
    "\n",
    "\n",
    "for i, t in enumerate(tqdm(ts)):  \n",
    "    # if i % 5 == 0:\n",
    "    if t >= 3.0:\n",
    "        temp = 1\n",
    "    input_nom = np.array(quad_asif(x_filt_ws[2:], nominal_control = nom_control(x_filt_ws,t), time=t)).flatten()\n",
    "    x_filt_ws = np.array(extended_dyn.step(x_filt_ws, input_nom))\n",
    "    x_filt_ws[4] = (x_filt_ws[4] + np.pi) % (2 * np.pi) - np.pi\n",
    "    states_filt_ws.append(x_filt_ws)\n",
    "    control_filt_ws.append(input_nom)\n",
    "    vf_filt_ws.append(quad_tabular_cbf.vf(x_filt_ws[2:], t))\n",
    "\n"
   ]
  },
  {
   "cell_type": "code",
   "execution_count": 232,
   "metadata": {},
   "outputs": [],
   "source": [
    "matplotlib.rcParams['lines.linewidth'] = 3"
   ]
  },
  {
   "cell_type": "code",
   "execution_count": 275,
   "metadata": {},
   "outputs": [
    {
     "data": {
      "text/plain": [
       "(0.0, 10.0)"
      ]
     },
     "execution_count": 275,
     "metadata": {},
     "output_type": "execute_result"
    },
    {
     "data": {
      "image/png": "[encoded data removed]",
      "text/plain": [
       "<Figure size 720x720 with 1 Axes>"
      ]
     },
     "metadata": {
      "needs_background": "light"
     },
     "output_type": "display_data"
    }
   ],
   "source": [
    "fig, ax = plt.subplots(figsize=(10,10))\n",
    "sns.set_palette(\"colorblind\")\n",
    "ax.contourf(extended_grid.coordinate_vectors[0], extended_grid.coordinate_vectors[2], new_vf_vals[:, 2, :, 13, 15, 13].T, levels=[0, 100], colors='green', alpha=.2)\n",
    "ax.plot(np.array(states)[:, 0], np.array(states)[:, 2])\n",
    "ax.plot(np.array(states_filt_ws)[:, 0], np.array(states_filt_ws)[:, 2])\n",
    "ax.plot(x_goal[0], x_goal[2], 'o')\n",
    "ax.plot(x0[0], x0[2], 'o')\n",
    "ax.contourf(extended_grid.coordinate_vectors[0], extended_grid.coordinate_vectors[2], new_vals_broadcast[:, 2, :, 13, 20, 13].T, levels=[-100, 0], colors='r', alpha=.2)\n",
    "\n",
    "ax.set_xlim([-5, 20])\n",
    "ax.set_ylim([0,10])"
   ]
  },
  {
   "cell_type": "code",
   "execution_count": 271,
   "metadata": {},
   "outputs": [
    {
     "data": {
      "text/plain": [
       "(0.0, 9.99)"
      ]
     },
     "execution_count": 271,
     "metadata": {},
     "output_type": "execute_result"
    },
    {
     "data": {
      "image/png": "[encoded data removed]",
      "text/plain": [
       "<Figure size 720x720 with 1 Axes>"
      ]
     },
     "metadata": {
      "needs_background": "light"
     },
     "output_type": "display_data"
    }
   ],
   "source": [
    "fig, ax = plt.subplots(figsize=(10,10))\n",
    "ax.plot(ts, vf_filt_ws[1:])\n",
    "ax.plot(ts, np.zeros_like(vf_filt_ws[1:]), '--k')\n",
    "ax.set_xlim([ts[0], ts[-1]])"
   ]
  },
  {
   "cell_type": "code",
   "execution_count": 244,
   "metadata": {},
   "outputs": [
    {
     "data": {
      "text/plain": [
       "(0.0, 10.0)"
      ]
     },
     "execution_count": 244,
     "metadata": {},
     "output_type": "execute_result"
    },
    {
     "data": {
      "image/png": "[encoded data removed]",
      "text/plain": [
       "<Figure size 720x864 with 6 Axes>"
      ]
     },
     "metadata": {
      "needs_background": "light"
     },
     "output_type": "display_data"
    }
   ],
   "source": [
    "fig, ax = plt.subplots(6, 1, figsize=(10,12), sharex=True)\n",
    "ax[0].plot(ts, np.array(states)[:-1, 0], label=\"$x$\")\n",
    "ax[0].plot(ts, np.array(states_filt_ws)[:-1, 0], label=\"$x_{filtered}$\")\n",
    "ax[0].plot(ts[-1], x_goal[0], 'o', label=\"$y_{target}$\")\n",
    "ax[1].plot(ts, np.array(states)[:-1, 1], label=\"$\\dot x$\")\n",
    "ax[1].plot(ts, np.array(states_filt_ws)[:-1, 1], label=\"$\\dot x_{filtered}$\")\n",
    "ax[2].plot(ts, np.array(states)[:-1, 2], label=\"$y$\")\n",
    "ax[2].plot(ts, np.array(states_filt_ws)[:-1, 2], label=\"$y_{filtered}$\")\n",
    "ax[2].plot(ts[-1], x_goal[2], 'o', label=\"$y_{target}$\")\n",
    "ax[3].plot(ts, np.array(states)[:-1, 3], label=\"$\\dot y$\")\n",
    "ax[3].plot(ts, np.array(states_filt_ws)[:-1, 3], label=\"$\\dot y_{filtered}$\")\n",
    "ax[4].plot(ts, np.array(states)[:-1, 4], label=\"$\\phi$\")\n",
    "ax[4].plot(ts, np.array(states_filt_ws)[:-1, 4], label=\"$\\phi_{filtered}$\")\n",
    "ax[5].plot(ts, np.array(states)[:-1, 5], label=\"$\\omega$\")\n",
    "ax[5].plot(ts, np.array(states_filt_ws)[:-1, 5], label=\"$\\omega_{filtered}$\")\n",
    "ax[0].set_ylabel('$x$')\n",
    "ax[1].set_ylabel('$\\dot x$')\n",
    "ax[2].set_ylabel('$y$')\n",
    "ax[3].set_ylabel('$\\dot y$')\n",
    "ax[4].set_ylabel('$\\phi$')\n",
    "ax[5].set_ylabel('$\\omega$')\n",
    "ax[5].set_xlim([0, 10])"
   ]
  },
  {
   "cell_type": "code",
   "execution_count": 246,
   "metadata": {},
   "outputs": [
    {
     "data": {
      "text/plain": [
       "[<matplotlib.lines.Line2D at 0x7f181b2cd220>]"
      ]
     },
     "execution_count": 246,
     "metadata": {},
     "output_type": "execute_result"
    },
    {
     "data": {
      "image/png": "[encoded data removed]",
      "text/plain": [
       "<Figure size 720x720 with 1 Axes>"
      ]
     },
     "metadata": {
      "needs_background": "light"
     },
     "output_type": "display_data"
    }
   ],
   "source": [
    "fig, ax = plt.subplots(figsize=(10,10))\n",
    "ax.plot(ts, np.array(control)[:, 0], label=\"$u_1$\")\n",
    "ax.plot(ts, np.array(control)[:, 1], label=\"$u_2$\")\n",
    "ax.plot(ts, np.array(control_filt_ws)[:, 0], label=\"$u_1$\")\n",
    "ax.plot(ts, np.array(control_filt_ws)[:, 1], label=\"$u_2$\")\n",
    "ax.plot(ts, control_at_rest[0] * np.ones_like(ts), '--k')"
   ]
  },
  {
   "cell_type": "code",
   "execution_count": 167,
   "metadata": {},
   "outputs": [],
   "source": []
  },
  {
   "cell_type": "code",
   "execution_count": 109,
   "metadata": {},
   "outputs": [],
   "source": [
    "from refine_cbfs.utils.visualize_vf import animate_planar_quad"
   ]
  },
  {
   "cell_type": "code",
   "execution_count": 278,
   "metadata": {},
   "outputs": [
    {
     "data": {
      "image/png": "[encoded data removed]",
      "text/plain": [
       "<Figure size 600x400 with 1 Axes>"
      ]
     },
     "metadata": {
      "needs_background": "light"
     },
     "output_type": "display_data"
    }
   ],
   "source": [
    "fig, ani = animate_planar_quad(ts, np.array(states)[:,0], np.array(states)[:,2], np.array(states)[:,4])"
   ]
  },
  {
   "cell_type": "code",
   "execution_count": 279,
   "metadata": {},
   "outputs": [],
   "source": [
    "ani.save(\"quad_2d/invalid_lol.mp4\", writer='ffmpeg', fps=30)"
   ]
  },
  {
   "cell_type": "code",
   "execution_count": null,
   "metadata": {},
   "outputs": [],
   "source": [
    "import matplotlib\n",
    "matplotlib.rcParams.update({\n",
    "    \"pgf.texsystem\": \"pdflatex\",\n",
    "    'font.family': 'serif',\n",
    "    'font.size': '28',\n",
    "    'text.usetex': True,\n",
    "    'pgf.rcfonts': False,\n",
    "})\n",
    "import matplotlib.pyplot as plt\n",
    "import matplotlib.animation as anim"
   ]
  }
 ],
 "metadata": {
  "interpreter": {
   "hash": "a52ffcf8240f143dbc3822b22beb945bee6a7396d2b62f5e19bbadf6badc059c"
  },
  "kernelspec": {
   "display_name": "Python 3.8.12 ('refine_cbf')",
   "language": "python",
   "name": "python3"
  },
  "language_info": {
   "codemirror_mode": {
    "name": "ipython",
    "version": 3
   },
   "file_extension": ".py",
   "mimetype": "text/x-python",
   "name": "python",
   "nbconvert_exporter": "python",
   "pygments_lexer": "ipython3",
   "version": "3.8.12"
  },
  "orig_nbformat": 4
 },
 "nbformat": 4,
 "nbformat_minor": 2
}
